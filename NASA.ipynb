{
 "cells": [
  {
   "cell_type": "markdown",
   "id": "a7a1115e",
   "metadata": {},
   "source": [
    "Potentially Hazardous Asteroids (PHAs) are currently defined based on parameters that measure the asteroid's potential to make threatening close approaches to the Earth. Specifically, all asteroids with an Earth Minimum Orbit Intersection Distance (MOID) of 0.05 au or less and an absolute magnitude (H) of 22.0 or less are considered PHAs. In other words, asteroids that can't get any closer to the Earth (i.e., MOID) than 0.05 au (roughly 7,480,000 km or 4,650,000 mi) or are smaller than about 140 m (~500 ft) in diameter (i.e., H = 22.0 with assumed albedo of 14%) are not considered PHAs."
   ]
  },
  {
   "cell_type": "code",
   "execution_count": 76,
   "id": "962a6b97",
   "metadata": {},
   "outputs": [],
   "source": [
    "import pandas as pd\n",
    "from datetime import timedelta, date\n",
    "import configparser\n",
    "import pickle\n",
    "\n",
    "#libraries for api get requests\n",
    "import requests\n",
    "from urllib.request import urlretrieve\n",
    "import json\n",
    "\n",
    "# import models\n",
    "from sklearn.tree import DecisionTreeClassifier\n",
    "from sklearn.linear_model import LogisticRegression\n",
    "from sklearn.neighbors import KNeighborsClassifier\n",
    "from sklearn.svm import SVC\n",
    "from sklearn.ensemble import RandomForestClassifier\n",
    "from sklearn.model_selection import train_test_split\n",
    "\n",
    "# import evaluation functions\n",
    "from sklearn.model_selection import train_test_split\n",
    "from sklearn.metrics import classification_report\n",
    "from sklearn.metrics import confusion_matrix\n",
    "from sklearn.metrics import precision_score, recall_score, accuracy_score\n",
    "from sklearn.model_selection import cross_val_score\n",
    "\n",
    "# scikitplot to directly plot our results\n",
    "import graphviz\n",
    "import scikitplot as skplt\n",
    "from mlxtend.plotting import plot_decision_regions\n",
    "from mlxtend.plotting import category_scatter\n"
   ]
  },
  {
   "cell_type": "code",
   "execution_count": 2,
   "id": "96754415",
   "metadata": {},
   "outputs": [],
   "source": [
    "# Setting Column widthsize to view all columns in pandas data frame\n",
    "pd.set_option('display.max_rows', 500)\n",
    "pd.set_option('display.max_columns', 500)\n",
    "pd.set_option('display.width', 1000)"
   ]
  },
  {
   "cell_type": "code",
   "execution_count": 3,
   "id": "30bcd232",
   "metadata": {},
   "outputs": [],
   "source": [
    "config = configparser.ConfigParser()\n",
    "config.read('dl.cfg')\n",
    "apiKey = config['NASA']['apikey']\n"
   ]
  },
  {
   "cell_type": "markdown",
   "id": "57190562",
   "metadata": {},
   "source": [
    "# **NEO FEED**"
   ]
  },
  {
   "cell_type": "raw",
   "id": "6c20570d",
   "metadata": {},
   "source": [
    "start_date = date(2002, 10, 8)\n",
    "end_date = date(2021, 11, 30)\n",
    "\n",
    "data_list=[]\n",
    "\n",
    "for n in range(0,int ((end_date - start_date).days),7):\n",
    "    new_start = start_date + timedelta(n)\n",
    "    new_end = new_start + timedelta(6)\n",
    "    new_start_date=new_start.strftime(\"%Y-%m-%d\")\n",
    "    new_end_date = new_end.strftime(\"%Y-%m-%d\")\n",
    "    \n",
    "    url = f\"https://api.nasa.gov/neo/rest/v1/feed?start_date={new_start_date}&end_date={new_end_date}&api_key={apiKey}\"\n",
    "    response = requests.get(url).json()\n",
    "    \n",
    "    for i in response[\"near_earth_objects\"]:\n",
    "        for n in range(len(response[\"near_earth_objects\"][i])):\n",
    "            data_list.append(response[\"near_earth_objects\"][i][n])\n",
    "    "
   ]
  },
  {
   "cell_type": "raw",
   "id": "1771825a",
   "metadata": {},
   "source": [
    "# 2nd request may need to be run for MORE DATA\n",
    "\n",
    "start_date = date(1983, 8, 9)\n",
    "end_date = date(2002, 10, 7)\n",
    "\n",
    "data_list=[]\n",
    "\n",
    "for n in range(0,int ((end_date - start_date).days),7):\n",
    "    new_start = start_date + timedelta(n)\n",
    "    new_end = new_start + timedelta(6)\n",
    "    new_start_date=new_start.strftime(\"%Y-%m-%d\")\n",
    "    new_end_date = new_end.strftime(\"%Y-%m-%d\")\n",
    "    \n",
    "    url = f\"https://api.nasa.gov/neo/rest/v1/feed?start_date={new_start_date}&end_date={new_end_date}&api_key={apiKey}\"\n",
    "    response = requests.get(url).json()\n",
    "    \n",
    "    for i in response[\"near_earth_objects\"]:\n",
    "        for n in range(len(response[\"near_earth_objects\"][i])):\n",
    "            data_list.append(response[\"near_earth_objects\"][i][n])"
   ]
  },
  {
   "cell_type": "markdown",
   "id": "c5fec7e5",
   "metadata": {},
   "source": [
    "### **Sample Output**\n",
    "`{'absolute_magnitude_h': 19.88,\n",
    " 'close_approach_data': [{'close_approach_date': '2021-11-10',\n",
    "                          'close_approach_date_full': '2021-Nov-10 20:29',\n",
    "                          'epoch_date_close_approach': 1636576140000,\n",
    "                          'miss_distance': {'astronomical': '0.2306734775',\n",
    "                                            'kilometers': '34508260.899492925',\n",
    "                                            'lunar': '89.7319827475',\n",
    "                                            'miles': '21442439.023835365'},\n",
    "                          'orbiting_body': 'Earth',\n",
    "                          'relative_velocity': {'kilometers_per_hour': '46525.6340756068',\n",
    "                                                'kilometers_per_second': '12.9237872432',\n",
    "                                                'miles_per_hour': '28909.219684368'}}],\n",
    " 'estimated_diameter': {'feet': {'estimated_diameter_max': 2060.7486784504,\n",
    "                                 'estimated_diameter_min': 921.5948259116},\n",
    "                        'kilometers': {'estimated_diameter_max': 0.6281161771,\n",
    "                                       'estimated_diameter_min': 0.2809020939},\n",
    "                        'meters': {'estimated_diameter_max': 628.116177092,\n",
    "                                   'estimated_diameter_min': 280.902093949},\n",
    "                        'miles': {'estimated_diameter_max': 0.3902931771,\n",
    "                                  'estimated_diameter_min': 0.174544415}},\n",
    " 'id': '2068347',\n",
    " 'is_potentially_hazardous_asteroid': True,\n",
    " 'is_sentry_object': False,\n",
    " 'links': {'self': 'http://www.neowsapp.com/rest/v1/neo/2068347?api_key=xxxxxxxxxxxx'},\n",
    " 'name': '68347 (2001 KB67)',\n",
    " 'nasa_jpl_url': 'http://ssd.jpl.nasa.gov/sbdb.cgi?sstr=2068347',\n",
    " 'neo_reference_id': '2068347'}`"
   ]
  },
  {
   "cell_type": "raw",
   "id": "0a430961",
   "metadata": {},
   "source": [
    "with open(\"rawdata.pickle\", \"wb\") as f:   #Saving the data locally as a text file to be reused\n",
    "   pickle.dump(data_list, f)"
   ]
  },
  {
   "cell_type": "code",
   "execution_count": 49,
   "id": "6fdb7da2",
   "metadata": {},
   "outputs": [],
   "source": [
    "with open(\"rawdata.pickle\", \"rb\") as f:   # Loading the data collected \n",
    "   raw = pickle.load(f)"
   ]
  },
  {
   "cell_type": "code",
   "execution_count": 50,
   "id": "2653e8c4",
   "metadata": {},
   "outputs": [],
   "source": [
    "df = pd.DataFrame(raw)"
   ]
  },
  {
   "cell_type": "code",
   "execution_count": 51,
   "id": "fb920108",
   "metadata": {},
   "outputs": [
    {
     "data": {
      "text/plain": [
       "links                                0\n",
       "id                                   0\n",
       "neo_reference_id                     0\n",
       "name                                 0\n",
       "nasa_jpl_url                         0\n",
       "absolute_magnitude_h                 1\n",
       "estimated_diameter                   1\n",
       "is_potentially_hazardous_asteroid    0\n",
       "close_approach_data                  0\n",
       "is_sentry_object                     0\n",
       "dtype: int64"
      ]
     },
     "execution_count": 51,
     "metadata": {},
     "output_type": "execute_result"
    }
   ],
   "source": [
    "df.isnull().sum()"
   ]
  },
  {
   "cell_type": "code",
   "execution_count": 52,
   "id": "119ae41f",
   "metadata": {},
   "outputs": [],
   "source": [
    "#Droping Null Values\n",
    "df.dropna(inplace=True)"
   ]
  },
  {
   "cell_type": "code",
   "execution_count": 53,
   "id": "9afacd8e",
   "metadata": {},
   "outputs": [],
   "source": [
    "# Getting Data from nested dictionaries of certain columns\n",
    "\n",
    "df['estimated_diameter_min_km'] = df['estimated_diameter'].apply(lambda x: x['kilometers']['estimated_diameter_min'])\n",
    "\n",
    "df['estimated_diameter_max_km'] = df['estimated_diameter'].apply(lambda x: x['kilometers']['estimated_diameter_max'])\n",
    "\n",
    "df['close_approach_date'] = df['close_approach_data'].apply(lambda x: x[0]['close_approach_date'])\n",
    "\n",
    "df['miss_distance_au'] = df['close_approach_data'].apply(lambda x: x[0]['miss_distance']['astronomical'])\n",
    "\n",
    "df['relative_velocity_kmps'] = df['close_approach_data'].apply(lambda x: x[0]['relative_velocity']['kilometers_per_second'])\n",
    "\n",
    "df['orbiting_body'] = df['close_approach_data'].apply(lambda x: x[0]['orbiting_body'])"
   ]
  },
  {
   "cell_type": "code",
   "execution_count": 54,
   "id": "2c97a99e",
   "metadata": {},
   "outputs": [
    {
     "data": {
      "text/plain": [
       "links                                 object\n",
       "id                                    object\n",
       "neo_reference_id                      object\n",
       "name                                  object\n",
       "nasa_jpl_url                          object\n",
       "absolute_magnitude_h                 float64\n",
       "estimated_diameter                    object\n",
       "is_potentially_hazardous_asteroid       bool\n",
       "close_approach_data                   object\n",
       "is_sentry_object                        bool\n",
       "estimated_diameter_min_km            float64\n",
       "estimated_diameter_max_km            float64\n",
       "close_approach_date                   object\n",
       "miss_distance_au                      object\n",
       "relative_velocity_kmps                object\n",
       "orbiting_body                         object\n",
       "dtype: object"
      ]
     },
     "execution_count": 54,
     "metadata": {},
     "output_type": "execute_result"
    }
   ],
   "source": [
    "df.dtypes"
   ]
  },
  {
   "cell_type": "code",
   "execution_count": 55,
   "id": "45f98db2",
   "metadata": {},
   "outputs": [
    {
     "data": {
      "text/html": [
       "<div>\n",
       "<style scoped>\n",
       "    .dataframe tbody tr th:only-of-type {\n",
       "        vertical-align: middle;\n",
       "    }\n",
       "\n",
       "    .dataframe tbody tr th {\n",
       "        vertical-align: top;\n",
       "    }\n",
       "\n",
       "    .dataframe thead th {\n",
       "        text-align: right;\n",
       "    }\n",
       "</style>\n",
       "<table border=\"1\" class=\"dataframe\">\n",
       "  <thead>\n",
       "    <tr style=\"text-align: right;\">\n",
       "      <th></th>\n",
       "      <th>links</th>\n",
       "      <th>id</th>\n",
       "      <th>neo_reference_id</th>\n",
       "      <th>name</th>\n",
       "      <th>nasa_jpl_url</th>\n",
       "      <th>absolute_magnitude_h</th>\n",
       "      <th>estimated_diameter</th>\n",
       "      <th>is_potentially_hazardous_asteroid</th>\n",
       "      <th>close_approach_data</th>\n",
       "      <th>is_sentry_object</th>\n",
       "      <th>estimated_diameter_min_km</th>\n",
       "      <th>estimated_diameter_max_km</th>\n",
       "      <th>close_approach_date</th>\n",
       "      <th>miss_distance_au</th>\n",
       "      <th>relative_velocity_kmps</th>\n",
       "      <th>orbiting_body</th>\n",
       "    </tr>\n",
       "  </thead>\n",
       "  <tbody>\n",
       "    <tr>\n",
       "      <th>0</th>\n",
       "      <td>{'self': 'http://www.neowsapp.com/rest/v1/neo/...</td>\n",
       "      <td>2053789</td>\n",
       "      <td>2053789</td>\n",
       "      <td>53789 (2000 ED104)</td>\n",
       "      <td>http://ssd.jpl.nasa.gov/sbdb.cgi?sstr=2053789</td>\n",
       "      <td>17.33</td>\n",
       "      <td>{'kilometers': {'estimated_diameter_min': 0.90...</td>\n",
       "      <td>True</td>\n",
       "      <td>[{'close_approach_date': '2002-10-09', 'close_...</td>\n",
       "      <td>False</td>\n",
       "      <td>0.908981</td>\n",
       "      <td>2.032544</td>\n",
       "      <td>2002-10-09</td>\n",
       "      <td>0.1657650913</td>\n",
       "      <td>21.5748905048</td>\n",
       "      <td>Earth</td>\n",
       "    </tr>\n",
       "    <tr>\n",
       "      <th>1</th>\n",
       "      <td>{'self': 'http://www.neowsapp.com/rest/v1/neo/...</td>\n",
       "      <td>2338292</td>\n",
       "      <td>2338292</td>\n",
       "      <td>338292 (2002 UA31)</td>\n",
       "      <td>http://ssd.jpl.nasa.gov/sbdb.cgi?sstr=2338292</td>\n",
       "      <td>19.02</td>\n",
       "      <td>{'kilometers': {'estimated_diameter_min': 0.41...</td>\n",
       "      <td>False</td>\n",
       "      <td>[{'close_approach_date': '2002-10-09', 'close_...</td>\n",
       "      <td>False</td>\n",
       "      <td>0.417402</td>\n",
       "      <td>0.933340</td>\n",
       "      <td>2002-10-09</td>\n",
       "      <td>0.2255639049</td>\n",
       "      <td>17.3257341038</td>\n",
       "      <td>Earth</td>\n",
       "    </tr>\n",
       "    <tr>\n",
       "      <th>2</th>\n",
       "      <td>{'self': 'http://www.neowsapp.com/rest/v1/neo/...</td>\n",
       "      <td>3251590</td>\n",
       "      <td>3251590</td>\n",
       "      <td>(2004 RC80)</td>\n",
       "      <td>http://ssd.jpl.nasa.gov/sbdb.cgi?sstr=3251590</td>\n",
       "      <td>24.40</td>\n",
       "      <td>{'kilometers': {'estimated_diameter_min': 0.03...</td>\n",
       "      <td>False</td>\n",
       "      <td>[{'close_approach_date': '2002-10-09', 'close_...</td>\n",
       "      <td>False</td>\n",
       "      <td>0.035039</td>\n",
       "      <td>0.078350</td>\n",
       "      <td>2002-10-09</td>\n",
       "      <td>0.4332412059</td>\n",
       "      <td>17.0376265666</td>\n",
       "      <td>Earth</td>\n",
       "    </tr>\n",
       "    <tr>\n",
       "      <th>3</th>\n",
       "      <td>{'self': 'http://www.neowsapp.com/rest/v1/neo/...</td>\n",
       "      <td>3255465</td>\n",
       "      <td>3255465</td>\n",
       "      <td>(2004 SC56)</td>\n",
       "      <td>http://ssd.jpl.nasa.gov/sbdb.cgi?sstr=3255465</td>\n",
       "      <td>22.70</td>\n",
       "      <td>{'kilometers': {'estimated_diameter_min': 0.07...</td>\n",
       "      <td>False</td>\n",
       "      <td>[{'close_approach_date': '2002-10-09', 'close_...</td>\n",
       "      <td>False</td>\n",
       "      <td>0.076658</td>\n",
       "      <td>0.171412</td>\n",
       "      <td>2002-10-09</td>\n",
       "      <td>0.0408540265</td>\n",
       "      <td>11.1709911789</td>\n",
       "      <td>Earth</td>\n",
       "    </tr>\n",
       "  </tbody>\n",
       "</table>\n",
       "</div>"
      ],
      "text/plain": [
       "                                               links       id neo_reference_id                name                                   nasa_jpl_url  absolute_magnitude_h                                 estimated_diameter  is_potentially_hazardous_asteroid                                close_approach_data  is_sentry_object  estimated_diameter_min_km  estimated_diameter_max_km close_approach_date miss_distance_au relative_velocity_kmps orbiting_body\n",
       "0  {'self': 'http://www.neowsapp.com/rest/v1/neo/...  2053789          2053789  53789 (2000 ED104)  http://ssd.jpl.nasa.gov/sbdb.cgi?sstr=2053789                 17.33  {'kilometers': {'estimated_diameter_min': 0.90...                               True  [{'close_approach_date': '2002-10-09', 'close_...             False                   0.908981                   2.032544          2002-10-09     0.1657650913          21.5748905048         Earth\n",
       "1  {'self': 'http://www.neowsapp.com/rest/v1/neo/...  2338292          2338292  338292 (2002 UA31)  http://ssd.jpl.nasa.gov/sbdb.cgi?sstr=2338292                 19.02  {'kilometers': {'estimated_diameter_min': 0.41...                              False  [{'close_approach_date': '2002-10-09', 'close_...             False                   0.417402                   0.933340          2002-10-09     0.2255639049          17.3257341038         Earth\n",
       "2  {'self': 'http://www.neowsapp.com/rest/v1/neo/...  3251590          3251590         (2004 RC80)  http://ssd.jpl.nasa.gov/sbdb.cgi?sstr=3251590                 24.40  {'kilometers': {'estimated_diameter_min': 0.03...                              False  [{'close_approach_date': '2002-10-09', 'close_...             False                   0.035039                   0.078350          2002-10-09     0.4332412059          17.0376265666         Earth\n",
       "3  {'self': 'http://www.neowsapp.com/rest/v1/neo/...  3255465          3255465         (2004 SC56)  http://ssd.jpl.nasa.gov/sbdb.cgi?sstr=3255465                 22.70  {'kilometers': {'estimated_diameter_min': 0.07...                              False  [{'close_approach_date': '2002-10-09', 'close_...             False                   0.076658                   0.171412          2002-10-09     0.0408540265          11.1709911789         Earth"
      ]
     },
     "execution_count": 55,
     "metadata": {},
     "output_type": "execute_result"
    }
   ],
   "source": [
    "df.head(4)"
   ]
  },
  {
   "cell_type": "code",
   "execution_count": 56,
   "id": "d860606f",
   "metadata": {},
   "outputs": [],
   "source": [
    "#df_na4[['year','month','day']] = df_na4[['year','month','day']].apply(pd.to_numeric)\n",
    "df[['id','neo_reference_id','miss_distance_au','relative_velocity_kmps',]] =df[['id','neo_reference_id','miss_distance_au','relative_velocity_kmps',]].apply(pd.to_numeric)"
   ]
  },
  {
   "cell_type": "code",
   "execution_count": 35,
   "id": "845ddc92",
   "metadata": {},
   "outputs": [],
   "source": [
    "df[['close_approach_date']] = df[['close_approach_date']].apply(pd.to_datetime)\n",
    "#df['miss_distance_au'] = df['miss_distance_au'].apply(lambda x: round(x,2))\n",
    "#df['relative_velocity_kmps'] = df['relative_velocity_kmps'].apply((lambda x: round(x,2)))\n",
    "#df['absolute_magnitude_h'] = df['absolute_magnitude_h'].apply(lambda x: round(x,2))"
   ]
  },
  {
   "cell_type": "code",
   "execution_count": 36,
   "id": "b2c14d11",
   "metadata": {},
   "outputs": [
    {
     "data": {
      "text/plain": [
       "links                                        object\n",
       "id                                            int64\n",
       "neo_reference_id                              int64\n",
       "name                                         object\n",
       "nasa_jpl_url                                 object\n",
       "absolute_magnitude_h                        float64\n",
       "estimated_diameter                           object\n",
       "is_potentially_hazardous_asteroid              bool\n",
       "close_approach_data                          object\n",
       "is_sentry_object                               bool\n",
       "estimated_diameter_min_km                   float64\n",
       "estimated_diameter_max_km                   float64\n",
       "close_approach_date                  datetime64[ns]\n",
       "miss_distance_au                            float64\n",
       "relative_velocity_kmps                      float64\n",
       "orbiting_body                                object\n",
       "dtype: object"
      ]
     },
     "execution_count": 36,
     "metadata": {},
     "output_type": "execute_result"
    }
   ],
   "source": [
    "df.dtypes"
   ]
  },
  {
   "cell_type": "code",
   "execution_count": 57,
   "id": "0c8587ce",
   "metadata": {},
   "outputs": [
    {
     "data": {
      "text/html": [
       "<div>\n",
       "<style scoped>\n",
       "    .dataframe tbody tr th:only-of-type {\n",
       "        vertical-align: middle;\n",
       "    }\n",
       "\n",
       "    .dataframe tbody tr th {\n",
       "        vertical-align: top;\n",
       "    }\n",
       "\n",
       "    .dataframe thead th {\n",
       "        text-align: right;\n",
       "    }\n",
       "</style>\n",
       "<table border=\"1\" class=\"dataframe\">\n",
       "  <thead>\n",
       "    <tr style=\"text-align: right;\">\n",
       "      <th></th>\n",
       "      <th>id</th>\n",
       "      <th>name</th>\n",
       "      <th>absolute_magnitude_h</th>\n",
       "      <th>is_potentially_hazardous_asteroid</th>\n",
       "      <th>is_sentry_object</th>\n",
       "      <th>estimated_diameter_min_km</th>\n",
       "      <th>estimated_diameter_max_km</th>\n",
       "      <th>close_approach_date</th>\n",
       "      <th>miss_distance_au</th>\n",
       "      <th>relative_velocity_kmps</th>\n",
       "      <th>orbiting_body</th>\n",
       "    </tr>\n",
       "  </thead>\n",
       "  <tbody>\n",
       "    <tr>\n",
       "      <th>80587</th>\n",
       "      <td>54225724</td>\n",
       "      <td>(2021 XD)</td>\n",
       "      <td>25.210</td>\n",
       "      <td>False</td>\n",
       "      <td>False</td>\n",
       "      <td>0.024130</td>\n",
       "      <td>0.053956</td>\n",
       "      <td>2021-11-28</td>\n",
       "      <td>0.071978</td>\n",
       "      <td>6.548339</td>\n",
       "      <td>Earth</td>\n",
       "    </tr>\n",
       "    <tr>\n",
       "      <th>80588</th>\n",
       "      <td>54226110</td>\n",
       "      <td>(2021 XM)</td>\n",
       "      <td>27.122</td>\n",
       "      <td>False</td>\n",
       "      <td>False</td>\n",
       "      <td>0.010004</td>\n",
       "      <td>0.022369</td>\n",
       "      <td>2021-11-28</td>\n",
       "      <td>0.003351</td>\n",
       "      <td>8.748354</td>\n",
       "      <td>Earth</td>\n",
       "    </tr>\n",
       "    <tr>\n",
       "      <th>80589</th>\n",
       "      <td>54226410</td>\n",
       "      <td>(2021 XK1)</td>\n",
       "      <td>26.396</td>\n",
       "      <td>False</td>\n",
       "      <td>False</td>\n",
       "      <td>0.013975</td>\n",
       "      <td>0.031249</td>\n",
       "      <td>2021-11-28</td>\n",
       "      <td>0.025174</td>\n",
       "      <td>8.852189</td>\n",
       "      <td>Earth</td>\n",
       "    </tr>\n",
       "    <tr>\n",
       "      <th>80590</th>\n",
       "      <td>54226786</td>\n",
       "      <td>(2021 XX1)</td>\n",
       "      <td>27.741</td>\n",
       "      <td>False</td>\n",
       "      <td>False</td>\n",
       "      <td>0.007522</td>\n",
       "      <td>0.016821</td>\n",
       "      <td>2021-11-28</td>\n",
       "      <td>0.018287</td>\n",
       "      <td>8.581292</td>\n",
       "      <td>Earth</td>\n",
       "    </tr>\n",
       "    <tr>\n",
       "      <th>80591</th>\n",
       "      <td>54226789</td>\n",
       "      <td>(2021 XZ1)</td>\n",
       "      <td>23.563</td>\n",
       "      <td>False</td>\n",
       "      <td>False</td>\n",
       "      <td>0.051518</td>\n",
       "      <td>0.115197</td>\n",
       "      <td>2021-11-28</td>\n",
       "      <td>0.248633</td>\n",
       "      <td>14.557350</td>\n",
       "      <td>Earth</td>\n",
       "    </tr>\n",
       "  </tbody>\n",
       "</table>\n",
       "</div>"
      ],
      "text/plain": [
       "             id        name  absolute_magnitude_h  is_potentially_hazardous_asteroid  is_sentry_object  estimated_diameter_min_km  estimated_diameter_max_km close_approach_date  miss_distance_au  relative_velocity_kmps orbiting_body\n",
       "80587  54225724   (2021 XD)                25.210                              False             False                   0.024130                   0.053956          2021-11-28          0.071978                6.548339         Earth\n",
       "80588  54226110   (2021 XM)                27.122                              False             False                   0.010004                   0.022369          2021-11-28          0.003351                8.748354         Earth\n",
       "80589  54226410  (2021 XK1)                26.396                              False             False                   0.013975                   0.031249          2021-11-28          0.025174                8.852189         Earth\n",
       "80590  54226786  (2021 XX1)                27.741                              False             False                   0.007522                   0.016821          2021-11-28          0.018287                8.581292         Earth\n",
       "80591  54226789  (2021 XZ1)                23.563                              False             False                   0.051518                   0.115197          2021-11-28          0.248633               14.557350         Earth"
      ]
     },
     "execution_count": 57,
     "metadata": {},
     "output_type": "execute_result"
    }
   ],
   "source": [
    "clean = df.drop(columns=(['links','neo_reference_id','nasa_jpl_url','estimated_diameter','close_approach_data']))\n",
    "clean.tail(5)"
   ]
  },
  {
   "cell_type": "code",
   "execution_count": 58,
   "id": "6b999986",
   "metadata": {},
   "outputs": [],
   "source": [
    "clean[['y','month','d']] = clean['close_approach_date'].str.split('-',expand=True)"
   ]
  },
  {
   "cell_type": "code",
   "execution_count": 68,
   "id": "3986cef8",
   "metadata": {},
   "outputs": [],
   "source": [
    "clean['month'] =clean['month'].apply(pd.to_numeric)"
   ]
  },
  {
   "cell_type": "code",
   "execution_count": 64,
   "id": "d3814736",
   "metadata": {},
   "outputs": [],
   "source": [
    "#clean = clean.drop(columns=(['y','d','close_approach_date','id','name','is_sentry_object','orbiting_body']))\n",
    "clean = clean.drop(columns=(['orbiting_body']))"
   ]
  },
  {
   "cell_type": "code",
   "execution_count": 65,
   "id": "a7369fd7",
   "metadata": {},
   "outputs": [
    {
     "data": {
      "text/html": [
       "<div>\n",
       "<style scoped>\n",
       "    .dataframe tbody tr th:only-of-type {\n",
       "        vertical-align: middle;\n",
       "    }\n",
       "\n",
       "    .dataframe tbody tr th {\n",
       "        vertical-align: top;\n",
       "    }\n",
       "\n",
       "    .dataframe thead th {\n",
       "        text-align: right;\n",
       "    }\n",
       "</style>\n",
       "<table border=\"1\" class=\"dataframe\">\n",
       "  <thead>\n",
       "    <tr style=\"text-align: right;\">\n",
       "      <th></th>\n",
       "      <th>absolute_magnitude_h</th>\n",
       "      <th>is_potentially_hazardous_asteroid</th>\n",
       "      <th>estimated_diameter_min_km</th>\n",
       "      <th>estimated_diameter_max_km</th>\n",
       "      <th>miss_distance_au</th>\n",
       "      <th>relative_velocity_kmps</th>\n",
       "      <th>month</th>\n",
       "    </tr>\n",
       "  </thead>\n",
       "  <tbody>\n",
       "    <tr>\n",
       "      <th>80587</th>\n",
       "      <td>25.210</td>\n",
       "      <td>False</td>\n",
       "      <td>0.024130</td>\n",
       "      <td>0.053956</td>\n",
       "      <td>0.071978</td>\n",
       "      <td>6.548339</td>\n",
       "      <td>11</td>\n",
       "    </tr>\n",
       "    <tr>\n",
       "      <th>80588</th>\n",
       "      <td>27.122</td>\n",
       "      <td>False</td>\n",
       "      <td>0.010004</td>\n",
       "      <td>0.022369</td>\n",
       "      <td>0.003351</td>\n",
       "      <td>8.748354</td>\n",
       "      <td>11</td>\n",
       "    </tr>\n",
       "    <tr>\n",
       "      <th>80589</th>\n",
       "      <td>26.396</td>\n",
       "      <td>False</td>\n",
       "      <td>0.013975</td>\n",
       "      <td>0.031249</td>\n",
       "      <td>0.025174</td>\n",
       "      <td>8.852189</td>\n",
       "      <td>11</td>\n",
       "    </tr>\n",
       "    <tr>\n",
       "      <th>80590</th>\n",
       "      <td>27.741</td>\n",
       "      <td>False</td>\n",
       "      <td>0.007522</td>\n",
       "      <td>0.016821</td>\n",
       "      <td>0.018287</td>\n",
       "      <td>8.581292</td>\n",
       "      <td>11</td>\n",
       "    </tr>\n",
       "    <tr>\n",
       "      <th>80591</th>\n",
       "      <td>23.563</td>\n",
       "      <td>False</td>\n",
       "      <td>0.051518</td>\n",
       "      <td>0.115197</td>\n",
       "      <td>0.248633</td>\n",
       "      <td>14.557350</td>\n",
       "      <td>11</td>\n",
       "    </tr>\n",
       "  </tbody>\n",
       "</table>\n",
       "</div>"
      ],
      "text/plain": [
       "       absolute_magnitude_h  is_potentially_hazardous_asteroid  estimated_diameter_min_km  estimated_diameter_max_km  miss_distance_au  relative_velocity_kmps month\n",
       "80587                25.210                              False                   0.024130                   0.053956          0.071978                6.548339    11\n",
       "80588                27.122                              False                   0.010004                   0.022369          0.003351                8.748354    11\n",
       "80589                26.396                              False                   0.013975                   0.031249          0.025174                8.852189    11\n",
       "80590                27.741                              False                   0.007522                   0.016821          0.018287                8.581292    11\n",
       "80591                23.563                              False                   0.051518                   0.115197          0.248633               14.557350    11"
      ]
     },
     "execution_count": 65,
     "metadata": {},
     "output_type": "execute_result"
    }
   ],
   "source": [
    "clean.tail()"
   ]
  },
  {
   "cell_type": "code",
   "execution_count": 69,
   "id": "65a626e4",
   "metadata": {},
   "outputs": [
    {
     "data": {
      "text/html": [
       "<div>\n",
       "<style scoped>\n",
       "    .dataframe tbody tr th:only-of-type {\n",
       "        vertical-align: middle;\n",
       "    }\n",
       "\n",
       "    .dataframe tbody tr th {\n",
       "        vertical-align: top;\n",
       "    }\n",
       "\n",
       "    .dataframe thead th {\n",
       "        text-align: right;\n",
       "    }\n",
       "</style>\n",
       "<table border=\"1\" class=\"dataframe\">\n",
       "  <thead>\n",
       "    <tr style=\"text-align: right;\">\n",
       "      <th></th>\n",
       "      <th>absolute_magnitude_h</th>\n",
       "      <th>estimated_diameter_min_km</th>\n",
       "      <th>estimated_diameter_max_km</th>\n",
       "      <th>miss_distance_au</th>\n",
       "      <th>relative_velocity_kmps</th>\n",
       "      <th>month</th>\n",
       "    </tr>\n",
       "  </thead>\n",
       "  <tbody>\n",
       "    <tr>\n",
       "      <th>count</th>\n",
       "      <td>80591.000000</td>\n",
       "      <td>80591.000000</td>\n",
       "      <td>80591.000000</td>\n",
       "      <td>80591.000000</td>\n",
       "      <td>80591.000000</td>\n",
       "      <td>80591.000000</td>\n",
       "    </tr>\n",
       "    <tr>\n",
       "      <th>mean</th>\n",
       "      <td>23.511093</td>\n",
       "      <td>0.128454</td>\n",
       "      <td>0.287232</td>\n",
       "      <td>0.244792</td>\n",
       "      <td>13.301668</td>\n",
       "      <td>6.665806</td>\n",
       "    </tr>\n",
       "    <tr>\n",
       "      <th>std</th>\n",
       "      <td>2.884456</td>\n",
       "      <td>0.304477</td>\n",
       "      <td>0.680831</td>\n",
       "      <td>0.149974</td>\n",
       "      <td>7.038022</td>\n",
       "      <td>3.497724</td>\n",
       "    </tr>\n",
       "    <tr>\n",
       "      <th>min</th>\n",
       "      <td>9.250000</td>\n",
       "      <td>0.000609</td>\n",
       "      <td>0.001362</td>\n",
       "      <td>0.000045</td>\n",
       "      <td>0.056485</td>\n",
       "      <td>1.000000</td>\n",
       "    </tr>\n",
       "    <tr>\n",
       "      <th>25%</th>\n",
       "      <td>21.380000</td>\n",
       "      <td>0.019256</td>\n",
       "      <td>0.043057</td>\n",
       "      <td>0.110310</td>\n",
       "      <td>7.892100</td>\n",
       "      <td>4.000000</td>\n",
       "    </tr>\n",
       "    <tr>\n",
       "      <th>50%</th>\n",
       "      <td>23.700000</td>\n",
       "      <td>0.048368</td>\n",
       "      <td>0.108153</td>\n",
       "      <td>0.249104</td>\n",
       "      <td>12.201345</td>\n",
       "      <td>7.000000</td>\n",
       "    </tr>\n",
       "    <tr>\n",
       "      <th>75%</th>\n",
       "      <td>25.700000</td>\n",
       "      <td>0.140785</td>\n",
       "      <td>0.314804</td>\n",
       "      <td>0.375251</td>\n",
       "      <td>17.417024</td>\n",
       "      <td>10.000000</td>\n",
       "    </tr>\n",
       "    <tr>\n",
       "      <th>max</th>\n",
       "      <td>33.200000</td>\n",
       "      <td>37.545248</td>\n",
       "      <td>83.953727</td>\n",
       "      <td>0.499998</td>\n",
       "      <td>65.468459</td>\n",
       "      <td>12.000000</td>\n",
       "    </tr>\n",
       "  </tbody>\n",
       "</table>\n",
       "</div>"
      ],
      "text/plain": [
       "       absolute_magnitude_h  estimated_diameter_min_km  estimated_diameter_max_km  miss_distance_au  relative_velocity_kmps         month\n",
       "count          80591.000000               80591.000000               80591.000000      80591.000000            80591.000000  80591.000000\n",
       "mean              23.511093                   0.128454                   0.287232          0.244792               13.301668      6.665806\n",
       "std                2.884456                   0.304477                   0.680831          0.149974                7.038022      3.497724\n",
       "min                9.250000                   0.000609                   0.001362          0.000045                0.056485      1.000000\n",
       "25%               21.380000                   0.019256                   0.043057          0.110310                7.892100      4.000000\n",
       "50%               23.700000                   0.048368                   0.108153          0.249104               12.201345      7.000000\n",
       "75%               25.700000                   0.140785                   0.314804          0.375251               17.417024     10.000000\n",
       "max               33.200000                  37.545248                  83.953727          0.499998               65.468459     12.000000"
      ]
     },
     "execution_count": 69,
     "metadata": {},
     "output_type": "execute_result"
    }
   ],
   "source": [
    "clean.describe()"
   ]
  },
  {
   "cell_type": "code",
   "execution_count": 70,
   "id": "01cf2259",
   "metadata": {},
   "outputs": [
    {
     "data": {
      "text/plain": [
       "<AxesSubplot:>"
      ]
     },
     "execution_count": 70,
     "metadata": {},
     "output_type": "execute_result"
    },
    {
     "data": {
      "image/png": "[encoded data removed]",
      "text/plain": [
       "<Figure size 1080x576 with 2 Axes>"
      ]
     },
     "metadata": {
      "needs_background": "light"
     },
     "output_type": "display_data"
    }
   ],
   "source": [
    "# correlation analysis\n",
    "correlationanalysis = clean.corr()\n",
    "\n",
    "# Importing our visualization libraries\n",
    "import seaborn as sns\n",
    "import matplotlib.pyplot as plt\n",
    "\n",
    "# Resizing trick from matplotlib\n",
    "plt.figure(figsize=(15,8))\n",
    "\n",
    "# setting the annot argument to \"True\" to display labels\n",
    "sns.heatmap(correlationanalysis,annot=True)"
   ]
  },
  {
   "cell_type": "code",
   "execution_count": 71,
   "id": "049d29b1",
   "metadata": {},
   "outputs": [],
   "source": [
    "## including all previous columns, only dropping the dependent variable 'is_potentially_hazardous_asteroid'\n",
    "##absolute_magnitude_h\testimated_diameter_min_km\n",
    "##estimated_diameter_max_km\tmiss_distance_au\trelative_velocity_kmps\tmonth\n",
    "X = clean[[\n",
    "    'absolute_magnitude_h', 'estimated_diameter_min_km',\n",
    "    'estimated_diameter_max_km', 'miss_distance_au', 'relative_velocity_kmps',\n",
    "    'month'\n",
    "]]\n",
    "## Dep variable\n",
    "# ensuring our y (prediction) is only included\n",
    "y = clean['is_potentially_hazardous_asteroid']"
   ]
  },
  {
   "cell_type": "code",
   "execution_count": 77,
   "id": "e2b7df39",
   "metadata": {},
   "outputs": [],
   "source": [
    "#Creating Training and Test Sets\n",
    "X_train, X_test, y_train, y_test = train_test_split(X, y, test_size=0.2, random_state=1337)\n",
    "\n",
    "#Creating validation set\n",
    "X_train, X2, y_train, y2 = train_test_split(X, y, test_size=0.2, random_state=30)\n",
    "\n",
    "X_val, X_test, y_val, y_test = train_test_split(X2, y2, test_size=0.5, random_state=30)"
   ]
  },
  {
   "cell_type": "markdown",
   "id": "725a209e",
   "metadata": {},
   "source": [
    "# **Logistic Regression Model**"
   ]
  },
  {
   "cell_type": "code",
   "execution_count": 78,
   "id": "74d82e01",
   "metadata": {},
   "outputs": [
    {
     "name": "stdout",
     "output_type": "stream",
     "text": [
      "Accuracy Score: 0.8956575682382134\n"
     ]
    }
   ],
   "source": [
    "# initializing our logistic regression model, we set the maximum iterations to 3000 so that the model can find a solution. The default may be sufficient in most cases (100)\n",
    "lr = LogisticRegression(random_state=7007, max_iter=3000)\n",
    "lr.fit(X_train, y_train)\n",
    "\n",
    "# using our model to predict\n",
    "y_pred = lr.predict(X_test)\n",
    "\n",
    "# evaluation\n",
    "print(\"Accuracy Score:\",accuracy_score(y_test, y_pred))"
   ]
  },
  {
   "cell_type": "code",
   "execution_count": 79,
   "id": "7f27f13c",
   "metadata": {},
   "outputs": [
    {
     "name": "stdout",
     "output_type": "stream",
     "text": [
      "              precision    recall  f1-score   support\n",
      "\n",
      "       False       0.90      0.99      0.94      7229\n",
      "        True       0.45      0.05      0.09       831\n",
      "\n",
      "    accuracy                           0.90      8060\n",
      "   macro avg       0.67      0.52      0.52      8060\n",
      "weighted avg       0.85      0.90      0.86      8060\n",
      "\n"
     ]
    }
   ],
   "source": [
    "print(classification_report(y_test, y_pred))"
   ]
  },
  {
   "cell_type": "code",
   "execution_count": 80,
   "id": "204dd7f7",
   "metadata": {},
   "outputs": [
    {
     "data": {
      "text/plain": [
       "<AxesSubplot:title={'center':'Confusion Matrix'}, xlabel='Predicted label', ylabel='True label'>"
      ]
     },
     "execution_count": 80,
     "metadata": {},
     "output_type": "execute_result"
    },
    {
     "data": {
      "image/png": "[encoded data removed]",
      "text/plain": [
       "<Figure size 432x288 with 2 Axes>"
      ]
     },
     "metadata": {
      "needs_background": "light"
     },
     "output_type": "display_data"
    }
   ],
   "source": [
    "skplt.metrics.plot_confusion_matrix(y_test, y_pred)"
   ]
  },
  {
   "cell_type": "code",
   "execution_count": 81,
   "id": "4e5fade4",
   "metadata": {},
   "outputs": [
    {
     "name": "stdout",
     "output_type": "stream",
     "text": [
      "Accuracy Score: 0.8993671671423253\n"
     ]
    }
   ],
   "source": [
    "#Validation Set testing\n",
    "lr = LogisticRegression(random_state=7007, max_iter=3000)\n",
    "lr.fit(X_train, y_train)\n",
    "\n",
    "# using our model to predict\n",
    "y_pred = lr.predict(X_val)\n",
    "\n",
    "# evaluation\n",
    "print(\"Accuracy Score:\",accuracy_score(y_val, y_pred))"
   ]
  },
  {
   "cell_type": "markdown",
   "id": "4a502d2c",
   "metadata": {},
   "source": [
    "# **Decesion Tree**"
   ]
  },
  {
   "cell_type": "code",
   "execution_count": 82,
   "id": "10f75e1c",
   "metadata": {},
   "outputs": [
    {
     "name": "stdout",
     "output_type": "stream",
     "text": [
      "Accuracy Score: 0.882258064516129\n"
     ]
    }
   ],
   "source": [
    "dt = DecisionTreeClassifier()\n",
    "dt.fit(X_train, y_train)\n",
    "y_pred = dt.predict(X_test)\n",
    "print(\"Accuracy Score:\",accuracy_score(y_test, y_pred))\n"
   ]
  },
  {
   "cell_type": "markdown",
   "id": "fd59dd6f",
   "metadata": {},
   "source": [
    "## **SVM Model**"
   ]
  },
  {
   "cell_type": "code",
   "execution_count": 84,
   "id": "7bee4339",
   "metadata": {},
   "outputs": [
    {
     "name": "stdout",
     "output_type": "stream",
     "text": [
      "Accuracy Score :  0.8968982630272953\n"
     ]
    }
   ],
   "source": [
    "svm = SVC()\n",
    "svm.fit(X_train, y_train)\n",
    "\n",
    "y_pred = svm.predict(X_test)\n",
    "print(\"Accuracy Score : \", accuracy_score(y_test,y_pred))"
   ]
  },
  {
   "cell_type": "code",
   "execution_count": 85,
   "id": "0cfde662",
   "metadata": {},
   "outputs": [
    {
     "name": "stdout",
     "output_type": "stream",
     "text": [
      "Accuracy Score :  0.898002233527733\n"
     ]
    }
   ],
   "source": [
    "#Validation\n",
    "svm = SVC()\n",
    "svm.fit(X_train, y_train)\n",
    "\n",
    "y_pred = svm.predict(X_val)\n",
    "print(\"Accuracy Score : \", accuracy_score(y_val,y_pred))"
   ]
  },
  {
   "cell_type": "markdown",
   "id": "0b20f048",
   "metadata": {},
   "source": [
    "# **Model 4: kNN**"
   ]
  },
  {
   "cell_type": "code",
   "execution_count": 86,
   "id": "d5ee370a",
   "metadata": {},
   "outputs": [
    {
     "name": "stdout",
     "output_type": "stream",
     "text": [
      "Accuracy Score :  0.8803970223325062\n"
     ]
    }
   ],
   "source": [
    "knn = KNeighborsClassifier(n_neighbors=3)\n",
    "knn.fit(X_train, y_train)\n",
    "y_pred = knn.predict(X_test)\n",
    "print(\"Accuracy Score : \", accuracy_score(y_test,y_pred))"
   ]
  },
  {
   "cell_type": "markdown",
   "id": "2a8ba36a",
   "metadata": {},
   "source": [
    "# **Model 5: random forest**"
   ]
  },
  {
   "cell_type": "code",
   "execution_count": 87,
   "id": "a4dc086f",
   "metadata": {},
   "outputs": [
    {
     "data": {
      "text/plain": [
       "[<matplotlib.lines.Line2D at 0x7f9c67d8ab50>]"
      ]
     },
     "execution_count": 87,
     "metadata": {},
     "output_type": "execute_result"
    },
    {
     "data": {
      "image/png": "[encoded data removed]",
      "text/plain": [
       "<Figure size 432x288 with 1 Axes>"
      ]
     },
     "metadata": {
      "needs_background": "light"
     },
     "output_type": "display_data"
    }
   ],
   "source": [
    "# the range of trees we want to test\n",
    "numberoftrees = range(1, 100)\n",
    "scores = []\n",
    "\n",
    "# for loop\n",
    "for n in numberoftrees:\n",
    "    # in the n_estimators parameter, we're going to be testing all the values found in our range\n",
    "    rf = RandomForestClassifier(n_estimators=n, random_state=1337)\n",
    "    # fitting our model\n",
    "    rf.fit(X_train, y_train)\n",
    "    #prediction\n",
    "    y_pred = rf.predict(X_test)\n",
    "    # appending our result to variable scores\n",
    "    scores.append(accuracy_score(y_test, y_pred))\n",
    "\n",
    "# plotting our results\n",
    "plt.plot(numberoftrees, scores)"
   ]
  },
  {
   "cell_type": "code",
   "execution_count": 88,
   "id": "c159d328",
   "metadata": {},
   "outputs": [
    {
     "data": {
      "text/plain": [
       "0.9122828784119107"
      ]
     },
     "execution_count": 88,
     "metadata": {},
     "output_type": "execute_result"
    }
   ],
   "source": [
    "# initializing our random forest model\n",
    "rf = RandomForestClassifier(n_estimators=30)\n",
    "rf.fit(X_train, y_train)\n",
    "\n",
    "# using our model to predict\n",
    "y_pred = rf.predict(X_test)\n",
    "\n",
    "# accuracy score\n",
    "accuracy_score(y_test, y_pred)"
   ]
  },
  {
   "cell_type": "code",
   "execution_count": 89,
   "id": "7b43d1e2",
   "metadata": {},
   "outputs": [
    {
     "name": "stdout",
     "output_type": "stream",
     "text": [
      "              precision    recall  f1-score   support\n",
      "\n",
      "       False       0.93      0.98      0.95      7229\n",
      "        True       0.64      0.34      0.44       831\n",
      "\n",
      "    accuracy                           0.91      8060\n",
      "   macro avg       0.79      0.66      0.70      8060\n",
      "weighted avg       0.90      0.91      0.90      8060\n",
      "\n"
     ]
    }
   ],
   "source": [
    "print(classification_report(y_test, y_pred))"
   ]
  },
  {
   "cell_type": "code",
   "execution_count": 90,
   "id": "e58edb2d",
   "metadata": {},
   "outputs": [
    {
     "data": {
      "text/plain": [
       "<AxesSubplot:title={'center':'Confusion Matrix'}, xlabel='Predicted label', ylabel='True label'>"
      ]
     },
     "execution_count": 90,
     "metadata": {},
     "output_type": "execute_result"
    },
    {
     "data": {
      "image/png": "[encoded data removed]",
      "text/plain": [
       "<Figure size 432x288 with 2 Axes>"
      ]
     },
     "metadata": {
      "needs_background": "light"
     },
     "output_type": "display_data"
    }
   ],
   "source": [
    "skplt.metrics.plot_confusion_matrix(y_test, y_pred)"
   ]
  },
  {
   "cell_type": "code",
   "execution_count": 91,
   "id": "78f1bee0",
   "metadata": {},
   "outputs": [
    {
     "name": "stdout",
     "output_type": "stream",
     "text": [
      "0.9147536915250031\n"
     ]
    }
   ],
   "source": [
    "rf = RandomForestClassifier(n_estimators=30, random_state=110)\n",
    "rf.fit(X_train, y_train)\n",
    "y_pred = rf.predict(X_val)\n",
    "print(accuracy_score(y_val, y_pred))"
   ]
  },
  {
   "cell_type": "code",
   "execution_count": 92,
   "id": "80a55385",
   "metadata": {},
   "outputs": [
    {
     "data": {
      "text/plain": [
       "<AxesSubplot:title={'center':'Feature Importance'}>"
      ]
     },
     "execution_count": 92,
     "metadata": {},
     "output_type": "execute_result"
    },
    {
     "data": {
      "image/png": "[encoded data removed]",
      "text/plain": [
       "<Figure size 1080x720 with 1 Axes>"
      ]
     },
     "metadata": {
      "needs_background": "light"
     },
     "output_type": "display_data"
    }
   ],
   "source": [
    "# assigning column names to variable 'feature_names'\n",
    "feature_names = X.columns\n",
    "\n",
    "skplt.estimators.plot_feature_importances(rf, feature_names=feature_names, figsize=(15, 10), x_tick_rotation=90)"
   ]
  },
  {
   "cell_type": "code",
   "execution_count": null,
   "id": "429ee3e5",
   "metadata": {},
   "outputs": [],
   "source": []
  },
  {
   "cell_type": "markdown",
   "id": "aec27e89",
   "metadata": {},
   "source": [
    "# **Code Above**\n",
    "---\n"
   ]
  }
 ],
 "metadata": {
  "kernelspec": {
   "display_name": "Python 3 (ipykernel)",
   "language": "python",
   "name": "python3"
  },
  "language_info": {
   "codemirror_mode": {
    "name": "ipython",
    "version": 3
   },
   "file_extension": ".py",
   "mimetype": "text/x-python",
   "name": "python",
   "nbconvert_exporter": "python",
   "pygments_lexer": "ipython3",
   "version": "3.9.7"
  },
  "varInspector": {
   "cols": {
    "lenName": 16,
    "lenType": 16,
    "lenVar": 40
   },
   "kernels_config": {
    "python": {
     "delete_cmd_postfix": "",
     "delete_cmd_prefix": "del ",
     "library": "var_list.py",
     "varRefreshCmd": "print(var_dic_list())"
    },
    "r": {
     "delete_cmd_postfix": ") ",
     "delete_cmd_prefix": "rm(",
     "library": "var_list.r",
     "varRefreshCmd": "cat(var_dic_list()) "
    }
   },
   "types_to_exclude": [
    "module",
    "function",
    "builtin_function_or_method",
    "instance",
    "_Feature"
   ],
   "window_display": false
  }
 },
 "nbformat": 4,
 "nbformat_minor": 5
}
