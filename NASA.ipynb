{
 "cells": [
  {
   "cell_type": "markdown",
   "id": "a7a1115e",
   "metadata": {},
   "source": [
    "# **NEO- Near-Earth Objects - Classification**\n",
    "\n",
    "## **PHAs**\n",
    "`Potentially Hazardous Asteroids (PHAs) are currently defined based on parameters that measure the asteroid's potential to make threatening close approaches to the Earth. Specifically, all asteroids with an Earth Minimum Orbit Intersection Distance (MOID) of 0.05 au or less and an absolute magnitude (H) of 22.0 or less are considered PHAs. In other words, asteroids that can't get any closer to the Earth (i.e., MOID) than 0.05 au (roughly 7,480,000 km or 4,650,000 mi) or are smaller than about 140 m (~500 ft) in diameter (i.e., H = 22.0 with assumed albedo of 14%) are not considered PHAs.`"
   ]
  },
  {
   "cell_type": "code",
   "execution_count": 44,
   "id": "962a6b97",
   "metadata": {},
   "outputs": [],
   "source": [
    "import pandas as pd\n",
    "from datetime import timedelta, date\n",
    "import configparser\n",
    "import pickle\n",
    "\n",
    "#libraries for api get requests\n",
    "import requests\n",
    "from urllib.request import urlretrieve\n",
    "import json\n",
    "\n",
    "# Importing our visualization libraries\n",
    "import seaborn as sns\n",
    "import matplotlib.pyplot as plt\n",
    "\n",
    "# import models\n",
    "from sklearn.tree import DecisionTreeClassifier\n",
    "from sklearn.linear_model import LogisticRegression\n",
    "from sklearn.neighbors import KNeighborsClassifier\n",
    "from sklearn.svm import SVC\n",
    "from sklearn.ensemble import RandomForestClassifier\n",
    "from sklearn.model_selection import train_test_split\n",
    "\n",
    "# import evaluation functions\n",
    "from sklearn.model_selection import train_test_split\n",
    "from sklearn.metrics import classification_report\n",
    "from sklearn.metrics import confusion_matrix\n",
    "from sklearn.metrics import precision_score, recall_score, accuracy_score\n",
    "from sklearn.model_selection import cross_val_score\n",
    "\n",
    "# scikitplot to directly plot our results\n",
    "import graphviz\n",
    "import scikitplot as skplt\n",
    "from mlxtend.plotting import plot_decision_regions\n",
    "from mlxtend.plotting import category_scatter\n",
    "\n",
    "#Connection to Google Bigquery\n",
    "import os\n",
    "os.environ['GOOGLE_APPLICATION_CREDENTIALS'] = '/Users/kashish/Downloads/bq-key.json'\n",
    "from google.cloud import bigquery\n",
    "import time"
   ]
  },
  {
   "cell_type": "code",
   "execution_count": 45,
   "id": "96754415",
   "metadata": {},
   "outputs": [],
   "source": [
    "# Setting Column widthsize to view all columns in pandas data frame\n",
    "pd.set_option('display.max_rows', 500)\n",
    "pd.set_option('display.max_columns', 500)\n",
    "pd.set_option('display.width', 1000)"
   ]
  },
  {
   "cell_type": "code",
   "execution_count": 46,
   "id": "30bcd232",
   "metadata": {},
   "outputs": [],
   "source": [
    "config = configparser.ConfigParser()\n",
    "config.read('dl.cfg')\n",
    "apiKey = config['NASA']['apikey']\n"
   ]
  },
  {
   "cell_type": "markdown",
   "id": "57190562",
   "metadata": {},
   "source": [
    "# **NEO FEED**"
   ]
  },
  {
   "cell_type": "raw",
   "id": "6c20570d",
   "metadata": {},
   "source": [
    "start_date = date(2002, 10, 8)\n",
    "end_date = date(2021, 11, 30)\n",
    "\n",
    "data_list=[]\n",
    "\n",
    "for n in range(0,int ((end_date - start_date).days),7):\n",
    "    new_start = start_date + timedelta(n)\n",
    "    new_end = new_start + timedelta(6)\n",
    "    new_start_date=new_start.strftime(\"%Y-%m-%d\")\n",
    "    new_end_date = new_end.strftime(\"%Y-%m-%d\")\n",
    "    \n",
    "    url = f\"https://api.nasa.gov/neo/rest/v1/feed?start_date={new_start_date}&end_date={new_end_date}&api_key={apiKey}\"\n",
    "    response = requests.get(url).json()\n",
    "    \n",
    "    for i in response[\"near_earth_objects\"]:\n",
    "        for n in range(len(response[\"near_earth_objects\"][i])):\n",
    "            data_list.append(response[\"near_earth_objects\"][i][n])\n",
    "    "
   ]
  },
  {
   "cell_type": "raw",
   "id": "fb0a231f",
   "metadata": {},
   "source": [
    "# 2nd request may need to be run for MORE DATA\n",
    "\n",
    "start_date = date(1983, 8, 9)\n",
    "end_date = date(2002, 10, 7)\n",
    "\n",
    "data_list=[]\n",
    "\n",
    "for n in range(0,int ((end_date - start_date).days),7):\n",
    "    new_start = start_date + timedelta(n)\n",
    "    new_end = new_start + timedelta(6)\n",
    "    new_start_date=new_start.strftime(\"%Y-%m-%d\")\n",
    "    new_end_date = new_end.strftime(\"%Y-%m-%d\")\n",
    "    \n",
    "    url = f\"https://api.nasa.gov/neo/rest/v1/feed?start_date={new_start_date}&end_date={new_end_date}&api_key={apiKey}\"\n",
    "    response = requests.get(url).json()\n",
    "    \n",
    "    for i in response[\"near_earth_objects\"]:\n",
    "        for n in range(len(response[\"near_earth_objects\"][i])):\n",
    "            data_list.append(response[\"near_earth_objects\"][i][n])"
   ]
  },
  {
   "cell_type": "markdown",
   "id": "c5fec7e5",
   "metadata": {},
   "source": [
    "### **Sample Output**\n",
    "`{'absolute_magnitude_h': 19.88,\n",
    " 'close_approach_data': [{'close_approach_date': '2021-11-10',\n",
    "                          'close_approach_date_full': '2021-Nov-10 20:29',\n",
    "                          'epoch_date_close_approach': 1636576140000,\n",
    "                          'miss_distance': {'astronomical': '0.2306734775',\n",
    "                                            'kilometers': '34508260.899492925',\n",
    "                                            'lunar': '89.7319827475',\n",
    "                                            'miles': '21442439.023835365'},\n",
    "                          'orbiting_body': 'Earth',\n",
    "                          'relative_velocity': {'kilometers_per_hour': '46525.6340756068',\n",
    "                                                'kilometers_per_second': '12.9237872432',\n",
    "                                                'miles_per_hour': '28909.219684368'}}],\n",
    " 'estimated_diameter': {'feet': {'estimated_diameter_max': 2060.7486784504,\n",
    "                                 'estimated_diameter_min': 921.5948259116},\n",
    "                        'kilometers': {'estimated_diameter_max': 0.6281161771,\n",
    "                                       'estimated_diameter_min': 0.2809020939},\n",
    "                        'meters': {'estimated_diameter_max': 628.116177092,\n",
    "                                   'estimated_diameter_min': 280.902093949},\n",
    "                        'miles': {'estimated_diameter_max': 0.3902931771,\n",
    "                                  'estimated_diameter_min': 0.174544415}},\n",
    " 'id': '2068347',\n",
    " 'is_potentially_hazardous_asteroid': True,\n",
    " 'is_sentry_object': False,\n",
    " 'links': {'self': 'http://www.neowsapp.com/rest/v1/neo/2068347?api_key=xxxxxxxxxxxx'},\n",
    " 'name': '68347 (2001 KB67)',\n",
    " 'nasa_jpl_url': 'http://ssd.jpl.nasa.gov/sbdb.cgi?sstr=2068347',\n",
    " 'neo_reference_id': '2068347'}`"
   ]
  },
  {
   "cell_type": "raw",
   "id": "e926370f",
   "metadata": {},
   "source": [
    "with open(\"rawdata.pickle\", \"wb\") as f:   #Saving the data locally as a text file to be reused\n",
    "   pickle.dump(data_list, f)"
   ]
  },
  {
   "cell_type": "code",
   "execution_count": 47,
   "id": "6fdb7da2",
   "metadata": {},
   "outputs": [],
   "source": [
    "with open(\"rawdata.pickle\", \"rb\") as f:   # Loading the data collected \n",
    "   raw = pickle.load(f)"
   ]
  },
  {
   "cell_type": "code",
   "execution_count": 48,
   "id": "2653e8c4",
   "metadata": {},
   "outputs": [],
   "source": [
    "df = pd.DataFrame(raw)"
   ]
  },
  {
   "cell_type": "code",
   "execution_count": 49,
   "id": "fb920108",
   "metadata": {},
   "outputs": [
    {
     "data": {
      "text/plain": [
       "links                                0\n",
       "id                                   0\n",
       "neo_reference_id                     0\n",
       "name                                 0\n",
       "nasa_jpl_url                         0\n",
       "absolute_magnitude_h                 1\n",
       "estimated_diameter                   1\n",
       "is_potentially_hazardous_asteroid    0\n",
       "close_approach_data                  0\n",
       "is_sentry_object                     0\n",
       "dtype: int64"
      ]
     },
     "execution_count": 49,
     "metadata": {},
     "output_type": "execute_result"
    }
   ],
   "source": [
    "df.isnull().sum()"
   ]
  },
  {
   "cell_type": "code",
   "execution_count": 50,
   "id": "119ae41f",
   "metadata": {},
   "outputs": [],
   "source": [
    "#Droping Null Values\n",
    "df.dropna(inplace=True)"
   ]
  },
  {
   "cell_type": "code",
   "execution_count": 51,
   "id": "9afacd8e",
   "metadata": {},
   "outputs": [],
   "source": [
    "# Getting Data from nested dictionaries of certain columns\n",
    "\n",
    "df['estimated_diameter_min_km'] = df['estimated_diameter'].apply(lambda x: x['kilometers']['estimated_diameter_min'])\n",
    "\n",
    "df['estimated_diameter_max_km'] = df['estimated_diameter'].apply(lambda x: x['kilometers']['estimated_diameter_max'])\n",
    "\n",
    "df['close_approach_date'] = df['close_approach_data'].apply(lambda x: x[0]['close_approach_date'])\n",
    "\n",
    "df['miss_distance_au'] = df['close_approach_data'].apply(lambda x: x[0]['miss_distance']['astronomical'])\n",
    "\n",
    "df['relative_velocity_kmps'] = df['close_approach_data'].apply(lambda x: x[0]['relative_velocity']['kilometers_per_second'])\n",
    "\n",
    "df['orbiting_body'] = df['close_approach_data'].apply(lambda x: x[0]['orbiting_body'])"
   ]
  },
  {
   "cell_type": "code",
   "execution_count": 52,
   "id": "5d1bf319",
   "metadata": {},
   "outputs": [
    {
     "data": {
      "text/plain": [
       "links                                 object\n",
       "id                                    object\n",
       "neo_reference_id                      object\n",
       "name                                  object\n",
       "nasa_jpl_url                          object\n",
       "absolute_magnitude_h                 float64\n",
       "estimated_diameter                    object\n",
       "is_potentially_hazardous_asteroid       bool\n",
       "close_approach_data                   object\n",
       "is_sentry_object                        bool\n",
       "estimated_diameter_min_km            float64\n",
       "estimated_diameter_max_km            float64\n",
       "close_approach_date                   object\n",
       "miss_distance_au                      object\n",
       "relative_velocity_kmps                object\n",
       "orbiting_body                         object\n",
       "dtype: object"
      ]
     },
     "execution_count": 52,
     "metadata": {},
     "output_type": "execute_result"
    }
   ],
   "source": [
    "df.dtypes"
   ]
  },
  {
   "cell_type": "code",
   "execution_count": 53,
   "id": "d860606f",
   "metadata": {},
   "outputs": [],
   "source": [
    "df[[\n",
    "    'id',\n",
    "    'neo_reference_id',\n",
    "    'miss_distance_au',\n",
    "    'relative_velocity_kmps',\n",
    "]] = df[[\n",
    "    'id',\n",
    "    'neo_reference_id',\n",
    "    'miss_distance_au',\n",
    "    'relative_velocity_kmps',\n",
    "]].apply(pd.to_numeric)"
   ]
  },
  {
   "cell_type": "code",
   "execution_count": 54,
   "id": "0c8587ce",
   "metadata": {},
   "outputs": [
    {
     "data": {
      "text/html": [
       "<div>\n",
       "<style scoped>\n",
       "    .dataframe tbody tr th:only-of-type {\n",
       "        vertical-align: middle;\n",
       "    }\n",
       "\n",
       "    .dataframe tbody tr th {\n",
       "        vertical-align: top;\n",
       "    }\n",
       "\n",
       "    .dataframe thead th {\n",
       "        text-align: right;\n",
       "    }\n",
       "</style>\n",
       "<table border=\"1\" class=\"dataframe\">\n",
       "  <thead>\n",
       "    <tr style=\"text-align: right;\">\n",
       "      <th></th>\n",
       "      <th>id</th>\n",
       "      <th>name</th>\n",
       "      <th>absolute_magnitude_h</th>\n",
       "      <th>is_potentially_hazardous_asteroid</th>\n",
       "      <th>is_sentry_object</th>\n",
       "      <th>estimated_diameter_min_km</th>\n",
       "      <th>estimated_diameter_max_km</th>\n",
       "      <th>close_approach_date</th>\n",
       "      <th>miss_distance_au</th>\n",
       "      <th>relative_velocity_kmps</th>\n",
       "      <th>orbiting_body</th>\n",
       "    </tr>\n",
       "  </thead>\n",
       "  <tbody>\n",
       "    <tr>\n",
       "      <th>80587</th>\n",
       "      <td>54225724</td>\n",
       "      <td>(2021 XD)</td>\n",
       "      <td>25.210</td>\n",
       "      <td>False</td>\n",
       "      <td>False</td>\n",
       "      <td>0.024130</td>\n",
       "      <td>0.053956</td>\n",
       "      <td>2021-11-28</td>\n",
       "      <td>0.071978</td>\n",
       "      <td>6.548339</td>\n",
       "      <td>Earth</td>\n",
       "    </tr>\n",
       "    <tr>\n",
       "      <th>80588</th>\n",
       "      <td>54226110</td>\n",
       "      <td>(2021 XM)</td>\n",
       "      <td>27.122</td>\n",
       "      <td>False</td>\n",
       "      <td>False</td>\n",
       "      <td>0.010004</td>\n",
       "      <td>0.022369</td>\n",
       "      <td>2021-11-28</td>\n",
       "      <td>0.003351</td>\n",
       "      <td>8.748354</td>\n",
       "      <td>Earth</td>\n",
       "    </tr>\n",
       "    <tr>\n",
       "      <th>80589</th>\n",
       "      <td>54226410</td>\n",
       "      <td>(2021 XK1)</td>\n",
       "      <td>26.396</td>\n",
       "      <td>False</td>\n",
       "      <td>False</td>\n",
       "      <td>0.013975</td>\n",
       "      <td>0.031249</td>\n",
       "      <td>2021-11-28</td>\n",
       "      <td>0.025174</td>\n",
       "      <td>8.852189</td>\n",
       "      <td>Earth</td>\n",
       "    </tr>\n",
       "    <tr>\n",
       "      <th>80590</th>\n",
       "      <td>54226786</td>\n",
       "      <td>(2021 XX1)</td>\n",
       "      <td>27.741</td>\n",
       "      <td>False</td>\n",
       "      <td>False</td>\n",
       "      <td>0.007522</td>\n",
       "      <td>0.016821</td>\n",
       "      <td>2021-11-28</td>\n",
       "      <td>0.018287</td>\n",
       "      <td>8.581292</td>\n",
       "      <td>Earth</td>\n",
       "    </tr>\n",
       "    <tr>\n",
       "      <th>80591</th>\n",
       "      <td>54226789</td>\n",
       "      <td>(2021 XZ1)</td>\n",
       "      <td>23.563</td>\n",
       "      <td>False</td>\n",
       "      <td>False</td>\n",
       "      <td>0.051518</td>\n",
       "      <td>0.115197</td>\n",
       "      <td>2021-11-28</td>\n",
       "      <td>0.248633</td>\n",
       "      <td>14.557350</td>\n",
       "      <td>Earth</td>\n",
       "    </tr>\n",
       "  </tbody>\n",
       "</table>\n",
       "</div>"
      ],
      "text/plain": [
       "             id        name  absolute_magnitude_h  is_potentially_hazardous_asteroid  is_sentry_object  estimated_diameter_min_km  estimated_diameter_max_km close_approach_date  miss_distance_au  relative_velocity_kmps orbiting_body\n",
       "80587  54225724   (2021 XD)                25.210                              False             False                   0.024130                   0.053956          2021-11-28          0.071978                6.548339         Earth\n",
       "80588  54226110   (2021 XM)                27.122                              False             False                   0.010004                   0.022369          2021-11-28          0.003351                8.748354         Earth\n",
       "80589  54226410  (2021 XK1)                26.396                              False             False                   0.013975                   0.031249          2021-11-28          0.025174                8.852189         Earth\n",
       "80590  54226786  (2021 XX1)                27.741                              False             False                   0.007522                   0.016821          2021-11-28          0.018287                8.581292         Earth\n",
       "80591  54226789  (2021 XZ1)                23.563                              False             False                   0.051518                   0.115197          2021-11-28          0.248633               14.557350         Earth"
      ]
     },
     "execution_count": 54,
     "metadata": {},
     "output_type": "execute_result"
    }
   ],
   "source": [
    "model_frame = df.drop(columns=([\n",
    "    'links', 'neo_reference_id', 'nasa_jpl_url', 'estimated_diameter',\n",
    "    'close_approach_data'\n",
    "]))\n",
    "model_frame.tail(5)"
   ]
  },
  {
   "cell_type": "code",
   "execution_count": null,
   "id": "448e7587",
   "metadata": {},
   "outputs": [],
   "source": []
  },
  {
   "cell_type": "code",
   "execution_count": 58,
   "id": "6b999986",
   "metadata": {},
   "outputs": [],
   "source": [
    "model_frame[['y','month','d']] = model_frame['close_approach_date'].str.split('-',expand=True)\n",
    "df[['close_approach_date']] = df[['close_approach_date']].apply(pd.to_datetime)"
   ]
  },
  {
   "cell_type": "code",
   "execution_count": 59,
   "id": "4f658d88",
   "metadata": {},
   "outputs": [],
   "source": [
    "df.drop(columns=['links','estimated_diameter','close_approach_data'],inplace=True)"
   ]
  },
  {
   "cell_type": "raw",
   "id": "0736f18b",
   "metadata": {},
   "source": [
    "df.to_csv('csv_data.csv', index=False)"
   ]
  },
  {
   "cell_type": "code",
   "execution_count": 60,
   "id": "d3814736",
   "metadata": {},
   "outputs": [],
   "source": [
    "model_frame = model_frame.drop(columns=([\n",
    "    'y', 'd', 'close_approach_date', 'id', 'name', 'is_sentry_object',\n",
    "    'orbiting_body'\n",
    "]))\n",
    "model_frame['month'] = model_frame['month'].apply(pd.to_numeric)"
   ]
  },
  {
   "cell_type": "code",
   "execution_count": 61,
   "id": "5e4cddf7",
   "metadata": {},
   "outputs": [
    {
     "data": {
      "text/plain": [
       "absolute_magnitude_h                 float64\n",
       "is_potentially_hazardous_asteroid       bool\n",
       "estimated_diameter_min_km            float64\n",
       "estimated_diameter_max_km            float64\n",
       "miss_distance_au                     float64\n",
       "relative_velocity_kmps               float64\n",
       "month                                  int64\n",
       "dtype: object"
      ]
     },
     "execution_count": 61,
     "metadata": {},
     "output_type": "execute_result"
    }
   ],
   "source": [
    "model_frame.dtypes"
   ]
  },
  {
   "cell_type": "markdown",
   "id": "4cea1f52",
   "metadata": {},
   "source": [
    "# **ML MODELS**"
   ]
  },
  {
   "cell_type": "code",
   "execution_count": 73,
   "id": "02a17a31",
   "metadata": {},
   "outputs": [
    {
     "data": {
      "text/plain": [
       "False    72841\n",
       "True      7750\n",
       "Name: is_potentially_hazardous_asteroid, dtype: int64"
      ]
     },
     "execution_count": 73,
     "metadata": {},
     "output_type": "execute_result"
    }
   ],
   "source": [
    "model_frame['is_potentially_hazardous_asteroid'].value_counts()"
   ]
  },
  {
   "cell_type": "markdown",
   "id": "895f2657",
   "metadata": {},
   "source": [
    "# **Downsampling**\n",
    "<br/><br/>\n",
    "### The above numbers shows that we have a imbalanced dataset as there are a lot of False values for target variable - `is_potentially_hazardous_asteroid` , because of this the accuracy score will be heavily impacted by the number of False values predicted by the Machine Learning Model.\n",
    "<br/><br/>\n",
    "### So In order to avoid that we will drop we will be randomly droping the rows with the false value to attain 50% balance balance between both the values"
   ]
  },
  {
   "cell_type": "raw",
   "id": "63430da8",
   "metadata": {},
   "source": [
    "# Randomly deleting 89 % of data where is_potentially_hazardous_asteroid is False using code below:\n",
    "\n",
    "model_frame = model_frame.drop(model_frame[model_frame['is_potentially_hazardous_asteroid'] == False].sample(frac=.89).index)"
   ]
  },
  {
   "cell_type": "code",
   "execution_count": 137,
   "id": "f6a756a8",
   "metadata": {},
   "outputs": [
    {
     "data": {
      "text/plain": [
       "False    8013\n",
       "True     7750\n",
       "Name: is_potentially_hazardous_asteroid, dtype: int64"
      ]
     },
     "execution_count": 137,
     "metadata": {},
     "output_type": "execute_result"
    }
   ],
   "source": [
    "model_frame['is_potentially_hazardous_asteroid'].value_counts()"
   ]
  },
  {
   "cell_type": "markdown",
   "id": "e82026b1",
   "metadata": {},
   "source": [
    "#### Here we can see that now we have balanced data which will be used to train ML models below:"
   ]
  },
  {
   "cell_type": "code",
   "execution_count": 115,
   "id": "571411e2",
   "metadata": {},
   "outputs": [
    {
     "data": {
      "text/plain": [
       "<AxesSubplot:>"
      ]
     },
     "execution_count": 115,
     "metadata": {},
     "output_type": "execute_result"
    },
    {
     "data": {
      "image/png": "[encoded data removed]",
      "text/plain": [
       "<Figure size 1080x576 with 2 Axes>"
      ]
     },
     "metadata": {
      "needs_background": "light"
     },
     "output_type": "display_data"
    }
   ],
   "source": [
    "# correlation analysis\n",
    "correlationanalysis = model_frame.corr()\n",
    "\n",
    "# Resizing trick from matplotlib\n",
    "plt.figure(figsize=(15,8))\n",
    "\n",
    "# setting the annot argument to \"True\" to display labels\n",
    "sns.heatmap(correlationanalysis,annot=True)"
   ]
  },
  {
   "cell_type": "code",
   "execution_count": 116,
   "id": "835d3054",
   "metadata": {},
   "outputs": [],
   "source": [
    "## including all previous columns, only dropping the dependent variable 'is_potentially_hazardous_asteroid'\n",
    "\n",
    "X = model_frame[[\n",
    "    'absolute_magnitude_h', 'estimated_diameter_min_km',\n",
    "    'estimated_diameter_max_km', 'miss_distance_au', 'relative_velocity_kmps',\n",
    "    'month'\n",
    "]]\n",
    "\n",
    "## Dep variable\n",
    "# ensuring our y (prediction) is only included\n",
    "y = model_frame['is_potentially_hazardous_asteroid']"
   ]
  },
  {
   "cell_type": "code",
   "execution_count": 117,
   "id": "ab9d7148",
   "metadata": {},
   "outputs": [],
   "source": [
    "#Creating Training and Test Sets\n",
    "X_train, X_test, y_train, y_test = train_test_split(X, y, test_size=0.2, random_state=1337)\n",
    "\n",
    "#Creating validation set\n",
    "X_train, X2, y_train, y2 = train_test_split(X, y, test_size=0.2, random_state=30)\n",
    "\n",
    "X_val, X_test, y_val, y_test = train_test_split(X2, y2, test_size=0.5, random_state=30)"
   ]
  },
  {
   "cell_type": "markdown",
   "id": "34bfc062",
   "metadata": {},
   "source": [
    "# **Logistic Regression Model**"
   ]
  },
  {
   "cell_type": "code",
   "execution_count": 118,
   "id": "53bc1a36",
   "metadata": {},
   "outputs": [
    {
     "name": "stdout",
     "output_type": "stream",
     "text": [
      "Accuracy Score: 0.8376664552948636\n"
     ]
    }
   ],
   "source": [
    "# initializing our logistic regression model, we set the maximum iterations to 3000 so that the model can find a solution. The default may be sufficient in most cases (100)\n",
    "lr = LogisticRegression(random_state=7007, max_iter=3000)\n",
    "lr.fit(X_train, y_train)\n",
    "\n",
    "# using our model to predict\n",
    "y_pred = lr.predict(X_test)\n",
    "\n",
    "# evaluation\n",
    "print(\"Accuracy Score:\",accuracy_score(y_test, y_pred))"
   ]
  },
  {
   "cell_type": "code",
   "execution_count": 119,
   "id": "29cc4d50",
   "metadata": {},
   "outputs": [
    {
     "name": "stdout",
     "output_type": "stream",
     "text": [
      "              precision    recall  f1-score   support\n",
      "\n",
      "       False       0.90      0.76      0.82       779\n",
      "        True       0.80      0.91      0.85       798\n",
      "\n",
      "    accuracy                           0.84      1577\n",
      "   macro avg       0.85      0.84      0.84      1577\n",
      "weighted avg       0.85      0.84      0.84      1577\n",
      "\n"
     ]
    }
   ],
   "source": [
    "print(classification_report(y_test, y_pred))"
   ]
  },
  {
   "cell_type": "code",
   "execution_count": 120,
   "id": "58f6645c",
   "metadata": {},
   "outputs": [
    {
     "data": {
      "text/plain": [
       "<AxesSubplot:title={'center':'Confusion Matrix'}, xlabel='Predicted label', ylabel='True label'>"
      ]
     },
     "execution_count": 120,
     "metadata": {},
     "output_type": "execute_result"
    },
    {
     "data": {
      "image/png": "[encoded data removed]",
      "text/plain": [
       "<Figure size 432x288 with 2 Axes>"
      ]
     },
     "metadata": {
      "needs_background": "light"
     },
     "output_type": "display_data"
    }
   ],
   "source": [
    "skplt.metrics.plot_confusion_matrix(y_test, y_pred)"
   ]
  },
  {
   "cell_type": "code",
   "execution_count": 121,
   "id": "498aceb0",
   "metadata": {},
   "outputs": [
    {
     "name": "stdout",
     "output_type": "stream",
     "text": [
      "Accuracy Score: 0.8458121827411168\n"
     ]
    }
   ],
   "source": [
    "#Validation Set testing\n",
    "lr = LogisticRegression(random_state=7007, max_iter=3000)\n",
    "lr.fit(X_train, y_train)\n",
    "\n",
    "# using our model to predict\n",
    "y_pred = lr.predict(X_val)\n",
    "\n",
    "# evaluation\n",
    "print(\"Accuracy Score:\",accuracy_score(y_val, y_pred))"
   ]
  },
  {
   "cell_type": "markdown",
   "id": "b71018d3",
   "metadata": {},
   "source": [
    "# **Decesion Tree**"
   ]
  },
  {
   "cell_type": "code",
   "execution_count": 122,
   "id": "611a8757",
   "metadata": {},
   "outputs": [
    {
     "name": "stdout",
     "output_type": "stream",
     "text": [
      "Accuracy Score: 0.8065948002536462\n"
     ]
    }
   ],
   "source": [
    "dt = DecisionTreeClassifier()\n",
    "dt.fit(X_train, y_train)\n",
    "y_pred = dt.predict(X_test)\n",
    "print(\"Accuracy Score:\",accuracy_score(y_test, y_pred))\n"
   ]
  },
  {
   "cell_type": "markdown",
   "id": "46049fd3",
   "metadata": {},
   "source": [
    "## **SVM Model**"
   ]
  },
  {
   "cell_type": "code",
   "execution_count": 123,
   "id": "0c51e416",
   "metadata": {},
   "outputs": [
    {
     "name": "stdout",
     "output_type": "stream",
     "text": [
      "Accuracy Score :  0.8528852251109702\n"
     ]
    }
   ],
   "source": [
    "svm = SVC()\n",
    "svm.fit(X_train, y_train)\n",
    "\n",
    "y_pred = svm.predict(X_test)\n",
    "print(\"Accuracy Score : \", accuracy_score(y_test,y_pred))"
   ]
  },
  {
   "cell_type": "code",
   "execution_count": 124,
   "id": "fad0c6b3",
   "metadata": {},
   "outputs": [
    {
     "name": "stdout",
     "output_type": "stream",
     "text": [
      "Accuracy Score :  0.8540609137055838\n"
     ]
    }
   ],
   "source": [
    "#Validation\n",
    "svm = SVC()\n",
    "svm.fit(X_train, y_train)\n",
    "\n",
    "y_pred = svm.predict(X_val)\n",
    "print(\"Accuracy Score : \", accuracy_score(y_val,y_pred))"
   ]
  },
  {
   "cell_type": "markdown",
   "id": "4dee495d",
   "metadata": {},
   "source": [
    "# **Model 4: kNN**"
   ]
  },
  {
   "cell_type": "code",
   "execution_count": 125,
   "id": "aff178e1",
   "metadata": {},
   "outputs": [
    {
     "name": "stdout",
     "output_type": "stream",
     "text": [
      "Accuracy Score :  0.8332276474318326\n"
     ]
    }
   ],
   "source": [
    "knn = KNeighborsClassifier(n_neighbors=3)\n",
    "knn.fit(X_train, y_train)\n",
    "y_pred = knn.predict(X_test)\n",
    "print(\"Accuracy Score : \", accuracy_score(y_test,y_pred))"
   ]
  },
  {
   "cell_type": "markdown",
   "id": "2cd0b13b",
   "metadata": {},
   "source": [
    "# **Model 5: random forest**"
   ]
  },
  {
   "cell_type": "code",
   "execution_count": 126,
   "id": "2e67f8dd",
   "metadata": {},
   "outputs": [
    {
     "data": {
      "text/plain": [
       "[<matplotlib.lines.Line2D at 0x7f8fd606e070>]"
      ]
     },
     "execution_count": 126,
     "metadata": {},
     "output_type": "execute_result"
    },
    {
     "data": {
      "image/png": "[encoded data removed]",
      "text/plain": [
       "<Figure size 432x288 with 1 Axes>"
      ]
     },
     "metadata": {
      "needs_background": "light"
     },
     "output_type": "display_data"
    }
   ],
   "source": [
    "# the range of trees we want to test\n",
    "numberoftrees = range(1, 100)\n",
    "scores = []\n",
    "\n",
    "# for loop\n",
    "for n in numberoftrees:\n",
    "    # in the n_estimators parameter, we're going to be testing all the values found in our range\n",
    "    rf = RandomForestClassifier(n_estimators=n, random_state=1337)\n",
    "    # fitting our model\n",
    "    rf.fit(X_train, y_train)\n",
    "    #prediction\n",
    "    y_pred = rf.predict(X_test)\n",
    "    # appending our result to variable scores\n",
    "    scores.append(accuracy_score(y_test, y_pred))\n",
    "\n",
    "# plotting our results\n",
    "plt.plot(numberoftrees, scores)"
   ]
  },
  {
   "cell_type": "code",
   "execution_count": 127,
   "id": "8e8ede79",
   "metadata": {},
   "outputs": [
    {
     "data": {
      "text/plain": [
       "0.87571337983513"
      ]
     },
     "execution_count": 127,
     "metadata": {},
     "output_type": "execute_result"
    }
   ],
   "source": [
    "# initializing our random forest model\n",
    "rf = RandomForestClassifier(n_estimators=70)\n",
    "rf.fit(X_train, y_train)\n",
    "\n",
    "# using our model to predict\n",
    "y_pred = rf.predict(X_test)\n",
    "\n",
    "# accuracy score\n",
    "accuracy_score(y_test, y_pred)"
   ]
  },
  {
   "cell_type": "code",
   "execution_count": 128,
   "id": "be8bfbdd",
   "metadata": {},
   "outputs": [
    {
     "name": "stdout",
     "output_type": "stream",
     "text": [
      "              precision    recall  f1-score   support\n",
      "\n",
      "       False       0.94      0.80      0.86       779\n",
      "        True       0.83      0.95      0.89       798\n",
      "\n",
      "    accuracy                           0.88      1577\n",
      "   macro avg       0.89      0.87      0.87      1577\n",
      "weighted avg       0.88      0.88      0.87      1577\n",
      "\n"
     ]
    }
   ],
   "source": [
    "print(classification_report(y_test, y_pred))"
   ]
  },
  {
   "cell_type": "code",
   "execution_count": 129,
   "id": "56dc55b1",
   "metadata": {},
   "outputs": [
    {
     "data": {
      "text/plain": [
       "<AxesSubplot:title={'center':'Confusion Matrix'}, xlabel='Predicted label', ylabel='True label'>"
      ]
     },
     "execution_count": 129,
     "metadata": {},
     "output_type": "execute_result"
    },
    {
     "data": {
      "image/png": "[encoded data removed]",
      "text/plain": [
       "<Figure size 432x288 with 2 Axes>"
      ]
     },
     "metadata": {
      "needs_background": "light"
     },
     "output_type": "display_data"
    }
   ],
   "source": [
    "skplt.metrics.plot_confusion_matrix(y_test, y_pred)"
   ]
  },
  {
   "cell_type": "code",
   "execution_count": 133,
   "id": "407b72d5",
   "metadata": {},
   "outputs": [
    {
     "name": "stdout",
     "output_type": "stream",
     "text": [
      "0.868020304568528\n"
     ]
    }
   ],
   "source": [
    "rf = RandomForestClassifier(n_estimators=70, random_state=110)\n",
    "rf.fit(X_train, y_train)\n",
    "y_pred = rf.predict(X_val)\n",
    "print(accuracy_score(y_val, y_pred))"
   ]
  },
  {
   "cell_type": "code",
   "execution_count": 134,
   "id": "0176dcd6",
   "metadata": {},
   "outputs": [
    {
     "data": {
      "text/plain": [
       "<AxesSubplot:title={'center':'Confusion Matrix'}, xlabel='Predicted label', ylabel='True label'>"
      ]
     },
     "execution_count": 134,
     "metadata": {},
     "output_type": "execute_result"
    },
    {
     "data": {
      "image/png": "[encoded data removed]",
      "text/plain": [
       "<Figure size 432x288 with 2 Axes>"
      ]
     },
     "metadata": {
      "needs_background": "light"
     },
     "output_type": "display_data"
    }
   ],
   "source": [
    "skplt.metrics.plot_confusion_matrix(y_val, y_pred)"
   ]
  },
  {
   "cell_type": "code",
   "execution_count": 135,
   "id": "3b72f6fd",
   "metadata": {},
   "outputs": [
    {
     "data": {
      "text/plain": [
       "0.8665126589211725"
      ]
     },
     "execution_count": 135,
     "metadata": {},
     "output_type": "execute_result"
    }
   ],
   "source": [
    "from sklearn.metrics import balanced_accuracy_score\n",
    "balanced_accuracy_score(y_val, y_pred)"
   ]
  },
  {
   "cell_type": "code",
   "execution_count": 136,
   "id": "9c15f89f",
   "metadata": {},
   "outputs": [
    {
     "data": {
      "text/plain": [
       "<AxesSubplot:title={'center':'Feature Importance'}>"
      ]
     },
     "execution_count": 136,
     "metadata": {},
     "output_type": "execute_result"
    },
    {
     "data": {
      "image/png": "[encoded data removed]",
      "text/plain": [
       "<Figure size 1080x720 with 1 Axes>"
      ]
     },
     "metadata": {
      "needs_background": "light"
     },
     "output_type": "display_data"
    }
   ],
   "source": [
    "# assigning column names to variable 'feature_names'\n",
    "feature_names = X.columns\n",
    "\n",
    "skplt.estimators.plot_feature_importances(rf, feature_names=feature_names, figsize=(15, 10), x_tick_rotation=90)"
   ]
  }
 ],
 "metadata": {
  "kernelspec": {
   "display_name": "Python 3 (ipykernel)",
   "language": "python",
   "name": "python3"
  },
  "language_info": {
   "codemirror_mode": {
    "name": "ipython",
    "version": 3
   },
   "file_extension": ".py",
   "mimetype": "text/x-python",
   "name": "python",
   "nbconvert_exporter": "python",
   "pygments_lexer": "ipython3",
   "version": "3.9.7"
  },
  "varInspector": {
   "cols": {
    "lenName": 16,
    "lenType": 16,
    "lenVar": 40
   },
   "kernels_config": {
    "python": {
     "delete_cmd_postfix": "",
     "delete_cmd_prefix": "del ",
     "library": "var_list.py",
     "varRefreshCmd": "print(var_dic_list())"
    },
    "r": {
     "delete_cmd_postfix": ") ",
     "delete_cmd_prefix": "rm(",
     "library": "var_list.r",
     "varRefreshCmd": "cat(var_dic_list()) "
    }
   },
   "types_to_exclude": [
    "module",
    "function",
    "builtin_function_or_method",
    "instance",
    "_Feature"
   ],
   "window_display": false
  }
 },
 "nbformat": 4,
 "nbformat_minor": 5
}
