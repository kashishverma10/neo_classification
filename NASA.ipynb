{
 "cells": [
  {
   "cell_type": "markdown",
   "id": "a7a1115e",
   "metadata": {},
   "source": [
    "Potentially Hazardous Asteroids (PHAs) are currently defined based on parameters that measure the asteroid's potential to make threatening close approaches to the Earth. Specifically, all asteroids with an Earth Minimum Orbit Intersection Distance (MOID) of 0.05 au or less and an absolute magnitude (H) of 22.0 or less are considered PHAs. In other words, asteroids that can't get any closer to the Earth (i.e., MOID) than 0.05 au (roughly 7,480,000 km or 4,650,000 mi) or are smaller than about 140 m (~500 ft) in diameter (i.e., H = 22.0 with assumed albedo of 14%) are not considered PHAs."
   ]
  },
  {
   "cell_type": "code",
   "execution_count": 1,
   "id": "962a6b97",
   "metadata": {},
   "outputs": [],
   "source": [
    "import requests\n",
    "from urllib.request import urlretrieve\n",
    "from pprint import PrettyPrinter\n",
    "pp = PrettyPrinter()\n",
    "import pandas as pd\n",
    "import json\n",
    "from datetime import timedelta, date\n",
    "import configparser\n",
    "import pickle"
   ]
  },
  {
   "cell_type": "code",
   "execution_count": 2,
   "id": "96754415",
   "metadata": {},
   "outputs": [],
   "source": [
    "# Setting Column widthsize to view all columns in pandas data frame\n",
    "pd.set_option('display.max_rows', 500)\n",
    "pd.set_option('display.max_columns', 500)\n",
    "pd.set_option('display.width', 1000)"
   ]
  },
  {
   "cell_type": "code",
   "execution_count": 3,
   "id": "30bcd232",
   "metadata": {},
   "outputs": [
    {
     "data": {
      "text/plain": [
       "['dl.cfg']"
      ]
     },
     "execution_count": 3,
     "metadata": {},
     "output_type": "execute_result"
    }
   ],
   "source": [
    "config = configparser.ConfigParser()\n",
    "config.read('dl.cfg')"
   ]
  },
  {
   "cell_type": "code",
   "execution_count": 5,
   "id": "51dd7685",
   "metadata": {},
   "outputs": [],
   "source": [
    "apiKey = config['NASA']['apikey']\n"
   ]
  },
  {
   "cell_type": "markdown",
   "id": "57190562",
   "metadata": {},
   "source": [
    "# **NEO FEED**"
   ]
  },
  {
   "cell_type": "raw",
   "id": "6c20570d",
   "metadata": {},
   "source": [
    "start_date = date(2002, 10, 8)\n",
    "end_date = date(2021, 11, 30)\n",
    "\n",
    "data_list=[]\n",
    "\n",
    "for n in range(0,int ((end_date - start_date).days),7):\n",
    "    new_start = start_date + timedelta(n)\n",
    "    new_end = new_start + timedelta(6)\n",
    "    new_start_date=new_start.strftime(\"%Y-%m-%d\")\n",
    "    new_end_date = new_end.strftime(\"%Y-%m-%d\")\n",
    "    \n",
    "    url = f\"https://api.nasa.gov/neo/rest/v1/feed?start_date={new_start_date}&end_date={new_end_date}&api_key={apiKey}\"\n",
    "    response = requests.get(url).json()\n",
    "    \n",
    "    for i in response[\"near_earth_objects\"]:\n",
    "        for n in range(len(response[\"near_earth_objects\"][i])):\n",
    "            data_list.append(response[\"near_earth_objects\"][i][n])\n",
    "    "
   ]
  },
  {
   "cell_type": "markdown",
   "id": "c5fec7e5",
   "metadata": {},
   "source": [
    "### **Sample Output**\n",
    "`{'absolute_magnitude_h': 19.88,\n",
    " 'close_approach_data': [{'close_approach_date': '2021-11-10',\n",
    "                          'close_approach_date_full': '2021-Nov-10 20:29',\n",
    "                          'epoch_date_close_approach': 1636576140000,\n",
    "                          'miss_distance': {'astronomical': '0.2306734775',\n",
    "                                            'kilometers': '34508260.899492925',\n",
    "                                            'lunar': '89.7319827475',\n",
    "                                            'miles': '21442439.023835365'},\n",
    "                          'orbiting_body': 'Earth',\n",
    "                          'relative_velocity': {'kilometers_per_hour': '46525.6340756068',\n",
    "                                                'kilometers_per_second': '12.9237872432',\n",
    "                                                'miles_per_hour': '28909.219684368'}}],\n",
    " 'estimated_diameter': {'feet': {'estimated_diameter_max': 2060.7486784504,\n",
    "                                 'estimated_diameter_min': 921.5948259116},\n",
    "                        'kilometers': {'estimated_diameter_max': 0.6281161771,\n",
    "                                       'estimated_diameter_min': 0.2809020939},\n",
    "                        'meters': {'estimated_diameter_max': 628.116177092,\n",
    "                                   'estimated_diameter_min': 280.902093949},\n",
    "                        'miles': {'estimated_diameter_max': 0.3902931771,\n",
    "                                  'estimated_diameter_min': 0.174544415}},\n",
    " 'id': '2068347',\n",
    " 'is_potentially_hazardous_asteroid': True,\n",
    " 'is_sentry_object': False,\n",
    " 'links': {'self': 'http://www.neowsapp.com/rest/v1/neo/2068347?api_key=tydbiYxRDkZwIRlMQaAilILralTGaivulTvpTnht'},\n",
    " 'name': '68347 (2001 KB67)',\n",
    " 'nasa_jpl_url': 'http://ssd.jpl.nasa.gov/sbdb.cgi?sstr=2068347',\n",
    " 'neo_reference_id': '2068347'}`"
   ]
  },
  {
   "cell_type": "code",
   "execution_count": 10,
   "id": "d7832ea1",
   "metadata": {},
   "outputs": [],
   "source": [
    "with open(\"rawdata.pickle\", \"wb\") as f:   #Saving the data locally as a text file to be reused\n",
    "   pickle.dump(data_list, f)"
   ]
  },
  {
   "cell_type": "code",
   "execution_count": 11,
   "id": "6fdb7da2",
   "metadata": {},
   "outputs": [],
   "source": [
    "with open(\"rawdata.pickle\", \"rb\") as f:   # Loading the data collected \n",
    "   raw = pickle.load(f)"
   ]
  },
  {
   "cell_type": "code",
   "execution_count": 23,
   "id": "2653e8c4",
   "metadata": {},
   "outputs": [],
   "source": [
    "df = pd.DataFrame(raw)"
   ]
  },
  {
   "cell_type": "code",
   "execution_count": 54,
   "id": "fb920108",
   "metadata": {},
   "outputs": [
    {
     "data": {
      "text/plain": [
       "links                                0\n",
       "id                                   0\n",
       "neo_reference_id                     0\n",
       "name                                 0\n",
       "nasa_jpl_url                         0\n",
       "absolute_magnitude_h                 0\n",
       "estimated_diameter                   0\n",
       "is_potentially_hazardous_asteroid    0\n",
       "close_approach_data                  0\n",
       "is_sentry_object                     0\n",
       "estimated_diameter_min_km            0\n",
       "estimated_diameter_max_km            0\n",
       "close_approach_date                  0\n",
       "miss_distance_km                     0\n",
       "relative_velocity_kmps               0\n",
       "orbiting_body                        0\n",
       "dtype: int64"
      ]
     },
     "execution_count": 54,
     "metadata": {},
     "output_type": "execute_result"
    }
   ],
   "source": [
    "df.isnull().sum()"
   ]
  },
  {
   "cell_type": "code",
   "execution_count": 38,
   "id": "119ae41f",
   "metadata": {},
   "outputs": [],
   "source": [
    "#Droping Null Values\n",
    "df.dropna(inplace=True)"
   ]
  },
  {
   "cell_type": "code",
   "execution_count": 39,
   "id": "9afacd8e",
   "metadata": {},
   "outputs": [],
   "source": [
    "# Getting Data from nested dictionaries of certain columns\n",
    "\n",
    "df['estimated_diameter_min_km'] = df['estimated_diameter'].apply(lambda x: x['kilometers']['estimated_diameter_min'])\n",
    "\n",
    "df['estimated_diameter_max_km'] = df['estimated_diameter'].apply(lambda x: x['kilometers']['estimated_diameter_max'])\n",
    "\n",
    "df['close_approach_date'] = df['close_approach_data'].apply(lambda x: x[0]['close_approach_date'])\n",
    "\n",
    "df['miss_distance_km'] = df['close_approach_data'].apply(lambda x: x[0]['miss_distance']['kilometers'])\n",
    "\n",
    "df['relative_velocity_kmps'] = df['close_approach_data'].apply(lambda x: x[0]['relative_velocity']['kilometers_per_second'])\n",
    "\n",
    "df['orbiting_body'] = df['close_approach_data'].apply(lambda x: x[0]['orbiting_body'])"
   ]
  },
  {
   "cell_type": "code",
   "execution_count": 45,
   "id": "45f98db2",
   "metadata": {},
   "outputs": [
    {
     "data": {
      "text/plain": [
       "links                                 object\n",
       "id                                    object\n",
       "neo_reference_id                      object\n",
       "name                                  object\n",
       "nasa_jpl_url                          object\n",
       "absolute_magnitude_h                 float64\n",
       "estimated_diameter                    object\n",
       "is_potentially_hazardous_asteroid       bool\n",
       "close_approach_data                   object\n",
       "is_sentry_object                        bool\n",
       "estimated_diameter_min_km            float64\n",
       "estimated_diameter_max_km            float64\n",
       "close_approach_date                   object\n",
       "miss_distance_km                      object\n",
       "relative_velocity_kmps                object\n",
       "orbiting_body                         object\n",
       "dtype: object"
      ]
     },
     "execution_count": 45,
     "metadata": {},
     "output_type": "execute_result"
    }
   ],
   "source": [
    "df.dtypes"
   ]
  },
  {
   "cell_type": "code",
   "execution_count": 46,
   "id": "c770698e",
   "metadata": {},
   "outputs": [
    {
     "data": {
      "text/html": [
       "<div>\n",
       "<style scoped>\n",
       "    .dataframe tbody tr th:only-of-type {\n",
       "        vertical-align: middle;\n",
       "    }\n",
       "\n",
       "    .dataframe tbody tr th {\n",
       "        vertical-align: top;\n",
       "    }\n",
       "\n",
       "    .dataframe thead th {\n",
       "        text-align: right;\n",
       "    }\n",
       "</style>\n",
       "<table border=\"1\" class=\"dataframe\">\n",
       "  <thead>\n",
       "    <tr style=\"text-align: right;\">\n",
       "      <th></th>\n",
       "      <th>links</th>\n",
       "      <th>id</th>\n",
       "      <th>neo_reference_id</th>\n",
       "      <th>name</th>\n",
       "      <th>nasa_jpl_url</th>\n",
       "      <th>absolute_magnitude_h</th>\n",
       "      <th>estimated_diameter</th>\n",
       "      <th>is_potentially_hazardous_asteroid</th>\n",
       "      <th>close_approach_data</th>\n",
       "      <th>is_sentry_object</th>\n",
       "      <th>estimated_diameter_min_km</th>\n",
       "      <th>estimated_diameter_max_km</th>\n",
       "      <th>close_approach_date</th>\n",
       "      <th>miss_distance_km</th>\n",
       "      <th>relative_velocity_kmps</th>\n",
       "      <th>orbiting_body</th>\n",
       "    </tr>\n",
       "  </thead>\n",
       "  <tbody>\n",
       "    <tr>\n",
       "      <th>0</th>\n",
       "      <td>{'self': 'http://www.neowsapp.com/rest/v1/neo/...</td>\n",
       "      <td>2053789</td>\n",
       "      <td>2053789</td>\n",
       "      <td>53789 (2000 ED104)</td>\n",
       "      <td>http://ssd.jpl.nasa.gov/sbdb.cgi?sstr=2053789</td>\n",
       "      <td>17.33</td>\n",
       "      <td>{'kilometers': {'estimated_diameter_min': 0.90...</td>\n",
       "      <td>True</td>\n",
       "      <td>[{'close_approach_date': '2002-10-09', 'close_...</td>\n",
       "      <td>False</td>\n",
       "      <td>0.908981</td>\n",
       "      <td>2.032544</td>\n",
       "      <td>2002-10-09</td>\n",
       "      <td>24798104.578835531</td>\n",
       "      <td>21.5748905048</td>\n",
       "      <td>Earth</td>\n",
       "    </tr>\n",
       "  </tbody>\n",
       "</table>\n",
       "</div>"
      ],
      "text/plain": [
       "                                               links       id neo_reference_id                name                                   nasa_jpl_url  absolute_magnitude_h                                 estimated_diameter  is_potentially_hazardous_asteroid                                close_approach_data  is_sentry_object  estimated_diameter_min_km  estimated_diameter_max_km close_approach_date    miss_distance_km relative_velocity_kmps orbiting_body\n",
       "0  {'self': 'http://www.neowsapp.com/rest/v1/neo/...  2053789          2053789  53789 (2000 ED104)  http://ssd.jpl.nasa.gov/sbdb.cgi?sstr=2053789                 17.33  {'kilometers': {'estimated_diameter_min': 0.90...                               True  [{'close_approach_date': '2002-10-09', 'close_...             False                   0.908981                   2.032544          2002-10-09  24798104.578835531          21.5748905048         Earth"
      ]
     },
     "execution_count": 46,
     "metadata": {},
     "output_type": "execute_result"
    }
   ],
   "source": [
    "df2.head(1)"
   ]
  },
  {
   "cell_type": "code",
   "execution_count": 47,
   "id": "d860606f",
   "metadata": {},
   "outputs": [],
   "source": [
    "#df_na4[['year','month','day']] = df_na4[['year','month','day']].apply(pd.to_numeric)\n",
    "df[['id','neo_reference_id','miss_distance_km','relative_velocity_kmps',]] =df[['id','neo_reference_id','miss_distance_km','relative_velocity_kmps',]].apply(pd.to_numeric)"
   ]
  },
  {
   "cell_type": "code",
   "execution_count": 51,
   "id": "845ddc92",
   "metadata": {},
   "outputs": [],
   "source": [
    "df[['close_approach_date']] = df[['close_approach_date']].apply(pd.to_datetime)"
   ]
  },
  {
   "cell_type": "code",
   "execution_count": 58,
   "id": "0c8587ce",
   "metadata": {},
   "outputs": [
    {
     "data": {
      "text/html": [
       "<div>\n",
       "<style scoped>\n",
       "    .dataframe tbody tr th:only-of-type {\n",
       "        vertical-align: middle;\n",
       "    }\n",
       "\n",
       "    .dataframe tbody tr th {\n",
       "        vertical-align: top;\n",
       "    }\n",
       "\n",
       "    .dataframe thead th {\n",
       "        text-align: right;\n",
       "    }\n",
       "</style>\n",
       "<table border=\"1\" class=\"dataframe\">\n",
       "  <thead>\n",
       "    <tr style=\"text-align: right;\">\n",
       "      <th></th>\n",
       "      <th>id</th>\n",
       "      <th>name</th>\n",
       "      <th>absolute_magnitude_h</th>\n",
       "      <th>is_potentially_hazardous_asteroid</th>\n",
       "      <th>is_sentry_object</th>\n",
       "      <th>estimated_diameter_min_km</th>\n",
       "      <th>estimated_diameter_max_km</th>\n",
       "      <th>close_approach_date</th>\n",
       "      <th>miss_distance_km</th>\n",
       "      <th>relative_velocity_kmps</th>\n",
       "      <th>orbiting_body</th>\n",
       "    </tr>\n",
       "  </thead>\n",
       "  <tbody>\n",
       "    <tr>\n",
       "      <th>0</th>\n",
       "      <td>2053789</td>\n",
       "      <td>53789 (2000 ED104)</td>\n",
       "      <td>17.33</td>\n",
       "      <td>True</td>\n",
       "      <td>False</td>\n",
       "      <td>0.908981</td>\n",
       "      <td>2.032544</td>\n",
       "      <td>2002-10-09</td>\n",
       "      <td>2.479810e+07</td>\n",
       "      <td>21.574891</td>\n",
       "      <td>Earth</td>\n",
       "    </tr>\n",
       "    <tr>\n",
       "      <th>1</th>\n",
       "      <td>2338292</td>\n",
       "      <td>338292 (2002 UA31)</td>\n",
       "      <td>19.02</td>\n",
       "      <td>False</td>\n",
       "      <td>False</td>\n",
       "      <td>0.417402</td>\n",
       "      <td>0.933340</td>\n",
       "      <td>2002-10-09</td>\n",
       "      <td>3.374388e+07</td>\n",
       "      <td>17.325734</td>\n",
       "      <td>Earth</td>\n",
       "    </tr>\n",
       "    <tr>\n",
       "      <th>2</th>\n",
       "      <td>3251590</td>\n",
       "      <td>(2004 RC80)</td>\n",
       "      <td>24.40</td>\n",
       "      <td>False</td>\n",
       "      <td>False</td>\n",
       "      <td>0.035039</td>\n",
       "      <td>0.078350</td>\n",
       "      <td>2002-10-09</td>\n",
       "      <td>6.481196e+07</td>\n",
       "      <td>17.037627</td>\n",
       "      <td>Earth</td>\n",
       "    </tr>\n",
       "    <tr>\n",
       "      <th>3</th>\n",
       "      <td>3255465</td>\n",
       "      <td>(2004 SC56)</td>\n",
       "      <td>22.70</td>\n",
       "      <td>False</td>\n",
       "      <td>False</td>\n",
       "      <td>0.076658</td>\n",
       "      <td>0.171412</td>\n",
       "      <td>2002-10-09</td>\n",
       "      <td>6.111675e+06</td>\n",
       "      <td>11.170991</td>\n",
       "      <td>Earth</td>\n",
       "    </tr>\n",
       "    <tr>\n",
       "      <th>4</th>\n",
       "      <td>3559741</td>\n",
       "      <td>(2011 EE41)</td>\n",
       "      <td>24.30</td>\n",
       "      <td>False</td>\n",
       "      <td>False</td>\n",
       "      <td>0.036691</td>\n",
       "      <td>0.082043</td>\n",
       "      <td>2002-10-09</td>\n",
       "      <td>3.462083e+07</td>\n",
       "      <td>9.130293</td>\n",
       "      <td>Earth</td>\n",
       "    </tr>\n",
       "  </tbody>\n",
       "</table>\n",
       "</div>"
      ],
      "text/plain": [
       "        id                name  absolute_magnitude_h  is_potentially_hazardous_asteroid  is_sentry_object  estimated_diameter_min_km  estimated_diameter_max_km close_approach_date  miss_distance_km  relative_velocity_kmps orbiting_body\n",
       "0  2053789  53789 (2000 ED104)                 17.33                               True             False                   0.908981                   2.032544          2002-10-09      2.479810e+07               21.574891         Earth\n",
       "1  2338292  338292 (2002 UA31)                 19.02                              False             False                   0.417402                   0.933340          2002-10-09      3.374388e+07               17.325734         Earth\n",
       "2  3251590         (2004 RC80)                 24.40                              False             False                   0.035039                   0.078350          2002-10-09      6.481196e+07               17.037627         Earth\n",
       "3  3255465         (2004 SC56)                 22.70                              False             False                   0.076658                   0.171412          2002-10-09      6.111675e+06               11.170991         Earth\n",
       "4  3559741         (2011 EE41)                 24.30                              False             False                   0.036691                   0.082043          2002-10-09      3.462083e+07                9.130293         Earth"
      ]
     },
     "execution_count": 58,
     "metadata": {},
     "output_type": "execute_result"
    }
   ],
   "source": [
    "clean = df.drop(columns=(['links','neo_reference_id','nasa_jpl_url','estimated_diameter','close_approach_data']))\n",
    "clean.head(5)"
   ]
  },
  {
   "cell_type": "code",
   "execution_count": 59,
   "id": "6b999986",
   "metadata": {},
   "outputs": [],
   "source": [
    "clean['miss_distance_km']=clean['miss_distance_km'].apply(lambda x: round(x,2))"
   ]
  },
  {
   "cell_type": "code",
   "execution_count": 63,
   "id": "d3814736",
   "metadata": {},
   "outputs": [
    {
     "data": {
      "text/plain": [
       "id                                            int64\n",
       "name                                         object\n",
       "absolute_magnitude_h                        float64\n",
       "is_potentially_hazardous_asteroid              bool\n",
       "is_sentry_object                               bool\n",
       "estimated_diameter_min_km                   float64\n",
       "estimated_diameter_max_km                   float64\n",
       "close_approach_date                  datetime64[ns]\n",
       "miss_distance_km                            float64\n",
       "relative_velocity_kmps                      float64\n",
       "orbiting_body                                object\n",
       "dtype: object"
      ]
     },
     "execution_count": 63,
     "metadata": {},
     "output_type": "execute_result"
    }
   ],
   "source": [
    "clean.dtypes"
   ]
  },
  {
   "cell_type": "markdown",
   "id": "aec27e89",
   "metadata": {},
   "source": [
    "# **Code Above**\n",
    "---\n"
   ]
  }
 ],
 "metadata": {
  "kernelspec": {
   "display_name": "Python 3 (ipykernel)",
   "language": "python",
   "name": "python3"
  },
  "language_info": {
   "codemirror_mode": {
    "name": "ipython",
    "version": 3
   },
   "file_extension": ".py",
   "mimetype": "text/x-python",
   "name": "python",
   "nbconvert_exporter": "python",
   "pygments_lexer": "ipython3",
   "version": "3.9.7"
  },
  "varInspector": {
   "cols": {
    "lenName": 16,
    "lenType": 16,
    "lenVar": 40
   },
   "kernels_config": {
    "python": {
     "delete_cmd_postfix": "",
     "delete_cmd_prefix": "del ",
     "library": "var_list.py",
     "varRefreshCmd": "print(var_dic_list())"
    },
    "r": {
     "delete_cmd_postfix": ") ",
     "delete_cmd_prefix": "rm(",
     "library": "var_list.r",
     "varRefreshCmd": "cat(var_dic_list()) "
    }
   },
   "types_to_exclude": [
    "module",
    "function",
    "builtin_function_or_method",
    "instance",
    "_Feature"
   ],
   "window_display": false
  }
 },
 "nbformat": 4,
 "nbformat_minor": 5
}
